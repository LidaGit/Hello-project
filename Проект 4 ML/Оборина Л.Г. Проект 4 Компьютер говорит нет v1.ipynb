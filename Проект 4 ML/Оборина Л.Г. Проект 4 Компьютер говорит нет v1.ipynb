{
 "cells": [
  {
   "cell_type": "markdown",
   "metadata": {},
   "source": [
    "Задача\n",
    "Построить скоринг модель для вторичных клиентов банка, которая бы предсказывала вероятность дефолта клиента. Для этого нужно будет определить значимые параметры заемщика."
   ]
  },
  {
   "cell_type": "markdown",
   "metadata": {},
   "source": [
    "Описание датасета\n",
    "В данных предоставлена информация из анкетных данных заемщиков и факт наличия дефолта.\n",
    "\n",
    "Описания полей\n",
    "\n",
    "client_id - идентификатор клиента\n",
    "education - уровень образования\n",
    "sex - пол заемщика\n",
    "age - возраст заемщика\n",
    "car - флаг наличия автомобиля\n",
    "car_type - флаг автомобиля иномарки\n",
    "decline_app_cnt - количество отказанных прошлых заявок\n",
    "good_work - флаг наличия “хорошей” работы\n",
    "bki_request_cnt - количество запросов в БКИ\n",
    "home_address - категоризатор домашнего адреса\n",
    "work_address - категоризатор рабочего адреса\n",
    "income - доход заемщика\n",
    "foreign_passport - наличие загранпаспорта\n",
    "sna - связь заемщика с клиентами банка\n",
    "first_time - давность наличия информации о заемщике\n",
    "score_bki - скоринговый балл по данным из БКИ\n",
    "region_rating - рейтинг региона\n",
    "app_date - дата подачи заявки\n",
    "default - флаг дефолта по кредиту"
   ]
  },
  {
   "cell_type": "markdown",
   "metadata": {},
   "source": [
    "Загрузка и первичная оценка данных"
   ]
  },
  {
   "cell_type": "code",
   "execution_count": 2,
   "metadata": {},
   "outputs": [],
   "source": [
    "import numpy as np\n",
    "import pandas as pd\n",
    "from pandas import Series\n",
    "\n",
    "from sklearn.feature_selection import f_classif, mutual_info_classif\n",
    "from sklearn.preprocessing import LabelEncoder, OneHotEncoder, StandardScaler\n",
    "from sklearn.model_selection import train_test_split, GridSearchCV\n",
    "from sklearn.linear_model import LogisticRegression\n",
    "from sklearn.metrics import confusion_matrix, accuracy_score, f1_score, roc_auc_score, roc_curve\n",
    "\n",
    "import matplotlib.pyplot as plt\n",
    "import seaborn as sns"
   ]
  },
  {
   "cell_type": "code",
   "execution_count": 3,
   "metadata": {},
   "outputs": [],
   "source": [
    "# загружаем датасеты\n",
    "d_train = pd.read_csv('train.csv')\n",
    "d_test = pd.read_csv('test.csv')\n",
    "d_sample = pd.read_csv('sample_submission.csv')"
   ]
  },
  {
   "cell_type": "code",
   "execution_count": 4,
   "metadata": {},
   "outputs": [
    {
     "name": "stdout",
     "output_type": "stream",
     "text": [
      "********** d_train **********\n",
      "<class 'pandas.core.frame.DataFrame'>\n",
      "RangeIndex: 73799 entries, 0 to 73798\n",
      "Data columns (total 19 columns):\n",
      "client_id           73799 non-null int64\n",
      "app_date            73799 non-null object\n",
      "education           73492 non-null object\n",
      "sex                 73799 non-null object\n",
      "age                 73799 non-null int64\n",
      "car                 73799 non-null object\n",
      "car_type            73799 non-null object\n",
      "decline_app_cnt     73799 non-null int64\n",
      "good_work           73799 non-null int64\n",
      "score_bki           73799 non-null float64\n",
      "bki_request_cnt     73799 non-null int64\n",
      "region_rating       73799 non-null int64\n",
      "home_address        73799 non-null int64\n",
      "work_address        73799 non-null int64\n",
      "income              73799 non-null int64\n",
      "sna                 73799 non-null int64\n",
      "first_time          73799 non-null int64\n",
      "foreign_passport    73799 non-null object\n",
      "default             73799 non-null int64\n",
      "dtypes: float64(1), int64(12), object(6)\n",
      "memory usage: 10.7+ MB\n",
      "None\n",
      "********** d_test **********\n",
      "<class 'pandas.core.frame.DataFrame'>\n",
      "RangeIndex: 36349 entries, 0 to 36348\n",
      "Data columns (total 18 columns):\n",
      "client_id           36349 non-null int64\n",
      "app_date            36349 non-null object\n",
      "education           36178 non-null object\n",
      "sex                 36349 non-null object\n",
      "age                 36349 non-null int64\n",
      "car                 36349 non-null object\n",
      "car_type            36349 non-null object\n",
      "decline_app_cnt     36349 non-null int64\n",
      "good_work           36349 non-null int64\n",
      "score_bki           36349 non-null float64\n",
      "bki_request_cnt     36349 non-null int64\n",
      "region_rating       36349 non-null int64\n",
      "home_address        36349 non-null int64\n",
      "work_address        36349 non-null int64\n",
      "income              36349 non-null int64\n",
      "sna                 36349 non-null int64\n",
      "first_time          36349 non-null int64\n",
      "foreign_passport    36349 non-null object\n",
      "dtypes: float64(1), int64(11), object(6)\n",
      "memory usage: 5.0+ MB\n",
      "None\n",
      "********** d_sample **********\n",
      "<class 'pandas.core.frame.DataFrame'>\n",
      "RangeIndex: 24354 entries, 0 to 24353\n",
      "Data columns (total 2 columns):\n",
      "client_id    24354 non-null int64\n",
      "default      24354 non-null float64\n",
      "dtypes: float64(1), int64(1)\n",
      "memory usage: 380.7 KB\n",
      "None\n"
     ]
    }
   ],
   "source": [
    "# выводим информацию о типах призанков, о их количестве к каждом датасете\n",
    "print('*'*10,'d_train','*'*10)\n",
    "print(d_train.info())\n",
    "print('*'*10,'d_test','*'*10)\n",
    "print(d_test.info())\n",
    "print('*'*10,'d_sample','*'*10)\n",
    "print(d_sample.info())"
   ]
  },
  {
   "cell_type": "code",
   "execution_count": 5,
   "metadata": {},
   "outputs": [
    {
     "name": "stdout",
     "output_type": "stream",
     "text": [
      "d_train:  (73799, 19)\n"
     ]
    },
    {
     "data": {
      "text/html": [
       "<div>\n",
       "<style scoped>\n",
       "    .dataframe tbody tr th:only-of-type {\n",
       "        vertical-align: middle;\n",
       "    }\n",
       "\n",
       "    .dataframe tbody tr th {\n",
       "        vertical-align: top;\n",
       "    }\n",
       "\n",
       "    .dataframe thead th {\n",
       "        text-align: right;\n",
       "    }\n",
       "</style>\n",
       "<table border=\"1\" class=\"dataframe\">\n",
       "  <thead>\n",
       "    <tr style=\"text-align: right;\">\n",
       "      <th></th>\n",
       "      <th>client_id</th>\n",
       "      <th>app_date</th>\n",
       "      <th>education</th>\n",
       "      <th>sex</th>\n",
       "      <th>age</th>\n",
       "      <th>car</th>\n",
       "      <th>car_type</th>\n",
       "      <th>decline_app_cnt</th>\n",
       "      <th>good_work</th>\n",
       "      <th>score_bki</th>\n",
       "      <th>bki_request_cnt</th>\n",
       "      <th>region_rating</th>\n",
       "      <th>home_address</th>\n",
       "      <th>work_address</th>\n",
       "      <th>income</th>\n",
       "      <th>sna</th>\n",
       "      <th>first_time</th>\n",
       "      <th>foreign_passport</th>\n",
       "      <th>default</th>\n",
       "    </tr>\n",
       "  </thead>\n",
       "  <tbody>\n",
       "    <tr>\n",
       "      <td>0</td>\n",
       "      <td>25905</td>\n",
       "      <td>01FEB2014</td>\n",
       "      <td>SCH</td>\n",
       "      <td>M</td>\n",
       "      <td>62</td>\n",
       "      <td>Y</td>\n",
       "      <td>Y</td>\n",
       "      <td>0</td>\n",
       "      <td>0</td>\n",
       "      <td>-2.008753</td>\n",
       "      <td>1</td>\n",
       "      <td>50</td>\n",
       "      <td>1</td>\n",
       "      <td>2</td>\n",
       "      <td>18000</td>\n",
       "      <td>4</td>\n",
       "      <td>1</td>\n",
       "      <td>N</td>\n",
       "      <td>0</td>\n",
       "    </tr>\n",
       "    <tr>\n",
       "      <td>1</td>\n",
       "      <td>63161</td>\n",
       "      <td>12MAR2014</td>\n",
       "      <td>SCH</td>\n",
       "      <td>F</td>\n",
       "      <td>59</td>\n",
       "      <td>N</td>\n",
       "      <td>N</td>\n",
       "      <td>0</td>\n",
       "      <td>0</td>\n",
       "      <td>-1.532276</td>\n",
       "      <td>3</td>\n",
       "      <td>50</td>\n",
       "      <td>2</td>\n",
       "      <td>3</td>\n",
       "      <td>19000</td>\n",
       "      <td>4</td>\n",
       "      <td>1</td>\n",
       "      <td>N</td>\n",
       "      <td>0</td>\n",
       "    </tr>\n",
       "    <tr>\n",
       "      <td>2</td>\n",
       "      <td>25887</td>\n",
       "      <td>01FEB2014</td>\n",
       "      <td>SCH</td>\n",
       "      <td>M</td>\n",
       "      <td>25</td>\n",
       "      <td>Y</td>\n",
       "      <td>N</td>\n",
       "      <td>2</td>\n",
       "      <td>0</td>\n",
       "      <td>-1.408142</td>\n",
       "      <td>1</td>\n",
       "      <td>80</td>\n",
       "      <td>1</td>\n",
       "      <td>2</td>\n",
       "      <td>30000</td>\n",
       "      <td>1</td>\n",
       "      <td>4</td>\n",
       "      <td>Y</td>\n",
       "      <td>0</td>\n",
       "    </tr>\n",
       "    <tr>\n",
       "      <td>3</td>\n",
       "      <td>16222</td>\n",
       "      <td>23JAN2014</td>\n",
       "      <td>SCH</td>\n",
       "      <td>F</td>\n",
       "      <td>53</td>\n",
       "      <td>N</td>\n",
       "      <td>N</td>\n",
       "      <td>0</td>\n",
       "      <td>0</td>\n",
       "      <td>-2.057471</td>\n",
       "      <td>2</td>\n",
       "      <td>50</td>\n",
       "      <td>2</td>\n",
       "      <td>3</td>\n",
       "      <td>10000</td>\n",
       "      <td>1</td>\n",
       "      <td>3</td>\n",
       "      <td>N</td>\n",
       "      <td>0</td>\n",
       "    </tr>\n",
       "    <tr>\n",
       "      <td>4</td>\n",
       "      <td>101655</td>\n",
       "      <td>18APR2014</td>\n",
       "      <td>GRD</td>\n",
       "      <td>M</td>\n",
       "      <td>48</td>\n",
       "      <td>N</td>\n",
       "      <td>N</td>\n",
       "      <td>0</td>\n",
       "      <td>1</td>\n",
       "      <td>-1.244723</td>\n",
       "      <td>1</td>\n",
       "      <td>60</td>\n",
       "      <td>2</td>\n",
       "      <td>3</td>\n",
       "      <td>30000</td>\n",
       "      <td>1</td>\n",
       "      <td>4</td>\n",
       "      <td>Y</td>\n",
       "      <td>0</td>\n",
       "    </tr>\n",
       "  </tbody>\n",
       "</table>\n",
       "</div>"
      ],
      "text/plain": [
       "   client_id   app_date education sex  age car car_type  decline_app_cnt  \\\n",
       "0      25905  01FEB2014       SCH   M   62   Y        Y                0   \n",
       "1      63161  12MAR2014       SCH   F   59   N        N                0   \n",
       "2      25887  01FEB2014       SCH   M   25   Y        N                2   \n",
       "3      16222  23JAN2014       SCH   F   53   N        N                0   \n",
       "4     101655  18APR2014       GRD   M   48   N        N                0   \n",
       "\n",
       "   good_work  score_bki  bki_request_cnt  region_rating  home_address  \\\n",
       "0          0  -2.008753                1             50             1   \n",
       "1          0  -1.532276                3             50             2   \n",
       "2          0  -1.408142                1             80             1   \n",
       "3          0  -2.057471                2             50             2   \n",
       "4          1  -1.244723                1             60             2   \n",
       "\n",
       "   work_address  income  sna  first_time foreign_passport  default  \n",
       "0             2   18000    4           1                N        0  \n",
       "1             3   19000    4           1                N        0  \n",
       "2             2   30000    1           4                Y        0  \n",
       "3             3   10000    1           3                N        0  \n",
       "4             3   30000    1           4                Y        0  "
      ]
     },
     "metadata": {},
     "output_type": "display_data"
    },
    {
     "name": "stdout",
     "output_type": "stream",
     "text": [
      "d_test:  (36349, 18)\n"
     ]
    },
    {
     "data": {
      "text/html": [
       "<div>\n",
       "<style scoped>\n",
       "    .dataframe tbody tr th:only-of-type {\n",
       "        vertical-align: middle;\n",
       "    }\n",
       "\n",
       "    .dataframe tbody tr th {\n",
       "        vertical-align: top;\n",
       "    }\n",
       "\n",
       "    .dataframe thead th {\n",
       "        text-align: right;\n",
       "    }\n",
       "</style>\n",
       "<table border=\"1\" class=\"dataframe\">\n",
       "  <thead>\n",
       "    <tr style=\"text-align: right;\">\n",
       "      <th></th>\n",
       "      <th>client_id</th>\n",
       "      <th>app_date</th>\n",
       "      <th>education</th>\n",
       "      <th>sex</th>\n",
       "      <th>age</th>\n",
       "      <th>car</th>\n",
       "      <th>car_type</th>\n",
       "      <th>decline_app_cnt</th>\n",
       "      <th>good_work</th>\n",
       "      <th>score_bki</th>\n",
       "      <th>bki_request_cnt</th>\n",
       "      <th>region_rating</th>\n",
       "      <th>home_address</th>\n",
       "      <th>work_address</th>\n",
       "      <th>income</th>\n",
       "      <th>sna</th>\n",
       "      <th>first_time</th>\n",
       "      <th>foreign_passport</th>\n",
       "    </tr>\n",
       "  </thead>\n",
       "  <tbody>\n",
       "    <tr>\n",
       "      <td>0</td>\n",
       "      <td>74835</td>\n",
       "      <td>22MAR2014</td>\n",
       "      <td>GRD</td>\n",
       "      <td>M</td>\n",
       "      <td>29</td>\n",
       "      <td>Y</td>\n",
       "      <td>Y</td>\n",
       "      <td>0</td>\n",
       "      <td>0</td>\n",
       "      <td>-2.271884</td>\n",
       "      <td>3</td>\n",
       "      <td>50</td>\n",
       "      <td>1</td>\n",
       "      <td>2</td>\n",
       "      <td>50000</td>\n",
       "      <td>1</td>\n",
       "      <td>4</td>\n",
       "      <td>N</td>\n",
       "    </tr>\n",
       "    <tr>\n",
       "      <td>1</td>\n",
       "      <td>17527</td>\n",
       "      <td>24JAN2014</td>\n",
       "      <td>SCH</td>\n",
       "      <td>F</td>\n",
       "      <td>39</td>\n",
       "      <td>N</td>\n",
       "      <td>N</td>\n",
       "      <td>5</td>\n",
       "      <td>0</td>\n",
       "      <td>-1.504999</td>\n",
       "      <td>2</td>\n",
       "      <td>50</td>\n",
       "      <td>1</td>\n",
       "      <td>2</td>\n",
       "      <td>5000</td>\n",
       "      <td>4</td>\n",
       "      <td>3</td>\n",
       "      <td>N</td>\n",
       "    </tr>\n",
       "    <tr>\n",
       "      <td>2</td>\n",
       "      <td>75683</td>\n",
       "      <td>23MAR2014</td>\n",
       "      <td>UGR</td>\n",
       "      <td>M</td>\n",
       "      <td>50</td>\n",
       "      <td>Y</td>\n",
       "      <td>Y</td>\n",
       "      <td>0</td>\n",
       "      <td>0</td>\n",
       "      <td>-1.691339</td>\n",
       "      <td>1</td>\n",
       "      <td>50</td>\n",
       "      <td>1</td>\n",
       "      <td>2</td>\n",
       "      <td>30000</td>\n",
       "      <td>1</td>\n",
       "      <td>3</td>\n",
       "      <td>Y</td>\n",
       "    </tr>\n",
       "    <tr>\n",
       "      <td>3</td>\n",
       "      <td>26883</td>\n",
       "      <td>03FEB2014</td>\n",
       "      <td>SCH</td>\n",
       "      <td>M</td>\n",
       "      <td>56</td>\n",
       "      <td>N</td>\n",
       "      <td>N</td>\n",
       "      <td>0</td>\n",
       "      <td>0</td>\n",
       "      <td>-2.374182</td>\n",
       "      <td>1</td>\n",
       "      <td>40</td>\n",
       "      <td>1</td>\n",
       "      <td>2</td>\n",
       "      <td>17000</td>\n",
       "      <td>1</td>\n",
       "      <td>3</td>\n",
       "      <td>N</td>\n",
       "    </tr>\n",
       "    <tr>\n",
       "      <td>4</td>\n",
       "      <td>28862</td>\n",
       "      <td>04FEB2014</td>\n",
       "      <td>GRD</td>\n",
       "      <td>F</td>\n",
       "      <td>38</td>\n",
       "      <td>N</td>\n",
       "      <td>N</td>\n",
       "      <td>0</td>\n",
       "      <td>0</td>\n",
       "      <td>-2.487502</td>\n",
       "      <td>0</td>\n",
       "      <td>80</td>\n",
       "      <td>2</td>\n",
       "      <td>3</td>\n",
       "      <td>120000</td>\n",
       "      <td>1</td>\n",
       "      <td>3</td>\n",
       "      <td>N</td>\n",
       "    </tr>\n",
       "  </tbody>\n",
       "</table>\n",
       "</div>"
      ],
      "text/plain": [
       "   client_id   app_date education sex  age car car_type  decline_app_cnt  \\\n",
       "0      74835  22MAR2014       GRD   M   29   Y        Y                0   \n",
       "1      17527  24JAN2014       SCH   F   39   N        N                5   \n",
       "2      75683  23MAR2014       UGR   M   50   Y        Y                0   \n",
       "3      26883  03FEB2014       SCH   M   56   N        N                0   \n",
       "4      28862  04FEB2014       GRD   F   38   N        N                0   \n",
       "\n",
       "   good_work  score_bki  bki_request_cnt  region_rating  home_address  \\\n",
       "0          0  -2.271884                3             50             1   \n",
       "1          0  -1.504999                2             50             1   \n",
       "2          0  -1.691339                1             50             1   \n",
       "3          0  -2.374182                1             40             1   \n",
       "4          0  -2.487502                0             80             2   \n",
       "\n",
       "   work_address  income  sna  first_time foreign_passport  \n",
       "0             2   50000    1           4                N  \n",
       "1             2    5000    4           3                N  \n",
       "2             2   30000    1           3                Y  \n",
       "3             2   17000    1           3                N  \n",
       "4             3  120000    1           3                N  "
      ]
     },
     "metadata": {},
     "output_type": "display_data"
    }
   ],
   "source": [
    "# смотрим на данные\n",
    "print('d_train: ', d_train.shape)\n",
    "display(d_train.head())\n",
    "print('d_test: ', d_test.shape)\n",
    "display(d_test.head())"
   ]
  },
  {
   "cell_type": "code",
   "execution_count": 6,
   "metadata": {},
   "outputs": [],
   "source": [
    "# объединяем данные двух датасетов для обработки\n",
    "data = pd.concat([d_train, d_test],sort=False)"
   ]
  },
  {
   "cell_type": "code",
   "execution_count": 7,
   "metadata": {},
   "outputs": [
    {
     "data": {
      "text/plain": [
       "(110148, 19)"
      ]
     },
     "execution_count": 7,
     "metadata": {},
     "output_type": "execute_result"
    }
   ],
   "source": [
    "data.shape"
   ]
  },
  {
   "cell_type": "code",
   "execution_count": 8,
   "metadata": {},
   "outputs": [
    {
     "name": "stdout",
     "output_type": "stream",
     "text": [
      "<class 'pandas.core.frame.DataFrame'>\n",
      "Int64Index: 110148 entries, 0 to 36348\n",
      "Data columns (total 19 columns):\n",
      "client_id           110148 non-null int64\n",
      "app_date            110148 non-null object\n",
      "education           109670 non-null object\n",
      "sex                 110148 non-null object\n",
      "age                 110148 non-null int64\n",
      "car                 110148 non-null object\n",
      "car_type            110148 non-null object\n",
      "decline_app_cnt     110148 non-null int64\n",
      "good_work           110148 non-null int64\n",
      "score_bki           110148 non-null float64\n",
      "bki_request_cnt     110148 non-null int64\n",
      "region_rating       110148 non-null int64\n",
      "home_address        110148 non-null int64\n",
      "work_address        110148 non-null int64\n",
      "income              110148 non-null int64\n",
      "sna                 110148 non-null int64\n",
      "first_time          110148 non-null int64\n",
      "foreign_passport    110148 non-null object\n",
      "default             73799 non-null float64\n",
      "dtypes: float64(2), int64(11), object(6)\n",
      "memory usage: 16.8+ MB\n"
     ]
    }
   ],
   "source": [
    "data.info()"
   ]
  },
  {
   "cell_type": "code",
   "execution_count": 9,
   "metadata": {},
   "outputs": [
    {
     "data": {
      "image/png": "[encoded data removed]",
      "text/plain": [
       "<Figure size 1440x864 with 1 Axes>"
      ]
     },
     "metadata": {
      "needs_background": "light"
     },
     "output_type": "display_data"
    }
   ],
   "source": [
    "# можно посмотретьна пропуски и таким методом\n",
    "fig, ax = plt.subplots(figsize=(20,12))\n",
    "sns_heatmap = sns.heatmap(data.isnull(), yticklabels=False, cbar=False, cmap='viridis')"
   ]
  },
  {
   "cell_type": "markdown",
   "metadata": {},
   "source": [
    "Выводы после первичного осмотра данных:\n",
    "\n",
    "В тренировочной выборке 73799 клиентов.\n",
    "В тестовой выборке - 36349 клиентов.\n",
    "Всего 110148 клиентов.\n",
    "В исходных данных 19 признаков:\n",
    "1 временной ('app_date'),\n",
    "6 бинарных ('sex', 'car', 'car_type', 'good_work', 'foreign_passport', 'default'),\n",
    "6 категориальных ('education', 'region_rating', 'home_address', 'work_address', 'sna', 'first_time')\n",
    "6 числовых ('client_id', 'age', 'decline_app_cnt', 'score_bki', 'bki_request_cnt', 'income').\n",
    "Пропуски встречаются только в признаке 'education' - 478 (в train - 307 пропусков, в test - 171 пропуск).\n",
    "client_id - не стану отбирать для обучения модели.\n",
    "default - целевая переменная. Есть только в данных train."
   ]
  },
  {
   "cell_type": "markdown",
   "metadata": {},
   "source": [
    "Проведём анализ признаков"
   ]
  },
  {
   "cell_type": "code",
   "execution_count": 10,
   "metadata": {},
   "outputs": [],
   "source": [
    "# выделим признаки в наборы данных по типу: бинарные -с 2мя уникальными значениями, категориальные - где более 2х уникальных значений,\n",
    "# и числовые\n",
    "bin_cols = [] \n",
    "cat_cols = [] \n",
    "num_cols = [] "
   ]
  },
  {
   "cell_type": "code",
   "execution_count": 11,
   "metadata": {},
   "outputs": [],
   "source": [
    "def visualizing_number(column):\n",
    "    bins = 100\n",
    "    if column.nunique() < 100:\n",
    "        bins = column.nunique()\n",
    "    column.hist(bins = bins)\n",
    "    plt.show()\n",
    "    sns.boxplot(x='default',y = column,data=data)\n",
    "    plt.show()\n",
    "    "
   ]
  },
  {
   "cell_type": "code",
   "execution_count": 12,
   "metadata": {},
   "outputs": [],
   "source": [
    "def outliers(column):  # подсчет количества выбросов\n",
    "    Q1 = column.quantile(0.25)\n",
    "    Q3 = column.quantile(0.75)\n",
    "    IQR = Q3 - Q1\n",
    "    min_out = Q1 - 1.5 * IQR\n",
    "    max_out = Q3 + 1.5 * IQR\n",
    "    return (column < min_out).sum() + (column > max_out).sum(), min_out, max_out"
   ]
  },
  {
   "cell_type": "markdown",
   "metadata": {},
   "source": [
    "проведём работу с временным признком app_date, т.к. в данном виде для анализа не подходит. Выделим из него год, месяц, день, день недели, сезон (зима, весна, лето, осень)"
   ]
  },
  {
   "cell_type": "code",
   "execution_count": 13,
   "metadata": {},
   "outputs": [],
   "source": [
    "data['app_date'] = pd.to_datetime(data.app_date)\n",
    "data['app_date_year'] = data.app_date.dt.year\n",
    "data['app_date_month'] = data.app_date.dt.month\n",
    "data['app_date_day'] = data.app_date.dt.day\n",
    "data['app_date_weekday'] = data.app_date.dt.weekday\n",
    "data['app_date_season'] = data.app_date_month.apply(lambda x: 1 if x in [12,1,2] else 2 if x in [3,4,5] else 3 if x in [6,7,8] else 4)\n",
    "data = data.drop('app_date',axis=1)"
   ]
  },
  {
   "cell_type": "code",
   "execution_count": 14,
   "metadata": {},
   "outputs": [
    {
     "data": {
      "image/png": "[encoded data removed]",
      "text/plain": [
       "<Figure size 432x288 with 1 Axes>"
      ]
     },
     "metadata": {
      "needs_background": "light"
     },
     "output_type": "display_data"
    },
    {
     "data": {
      "image/png": "[encoded data removed]",
      "text/plain": [
       "<Figure size 432x288 with 1 Axes>"
      ]
     },
     "metadata": {
      "needs_background": "light"
     },
     "output_type": "display_data"
    },
    {
     "data": {
      "image/png": "[encoded data removed]",
      "text/plain": [
       "<Figure size 432x288 with 1 Axes>"
      ]
     },
     "metadata": {
      "needs_background": "light"
     },
     "output_type": "display_data"
    },
    {
     "data": {
      "image/png": "[encoded data removed]",
      "text/plain": [
       "<Figure size 432x288 with 1 Axes>"
      ]
     },
     "metadata": {
      "needs_background": "light"
     },
     "output_type": "display_data"
    },
    {
     "data": {
      "image/png": "[encoded data removed]",
      "text/plain": [
       "<Figure size 432x288 with 1 Axes>"
      ]
     },
     "metadata": {
      "needs_background": "light"
     },
     "output_type": "display_data"
    }
   ],
   "source": [
    "import seaborn as sns\n",
    "for i in data.iloc[:,18:].columns:\n",
    "    sns.countplot(x = data[i], data = data)\n",
    "    plt.show()"
   ]
  },
  {
   "cell_type": "code",
   "execution_count": 15,
   "metadata": {},
   "outputs": [],
   "source": [
    "# определим временные признки как числовые, исключив год, т.к. не несёт информации для анализа\n",
    "for i in data.iloc[:,19:].columns:\n",
    "    num_cols.append(i)\n",
    "data = data.drop('app_date_year',axis=1)"
   ]
  },
  {
   "cell_type": "markdown",
   "metadata": {},
   "source": [
    "Исследуем и преобразуем категориальный признак 'education'- образование, содержащий пропуски."
   ]
  },
  {
   "cell_type": "code",
   "execution_count": 16,
   "metadata": {},
   "outputs": [
    {
     "data": {
      "image/png": "[encoded data removed]",
      "text/plain": [
       "<Figure size 432x288 with 1 Axes>"
      ]
     },
     "metadata": {
      "needs_background": "light"
     },
     "output_type": "display_data"
    }
   ],
   "source": [
    "# посмотрим на значения 'education'\n",
    "data.education.value_counts().plot.barh()\n",
    "plt.show()"
   ]
  },
  {
   "cell_type": "code",
   "execution_count": 17,
   "metadata": {},
   "outputs": [
    {
     "data": {
      "text/plain": [
       "<matplotlib.axes._subplots.AxesSubplot at 0x1b801037d88>"
      ]
     },
     "execution_count": 17,
     "metadata": {},
     "output_type": "execute_result"
    },
    {
     "data": {
      "image/png": "[encoded data removed]",
      "text/plain": [
       "<Figure size 432x288 with 1 Axes>"
      ]
     },
     "metadata": {
      "needs_background": "light"
     },
     "output_type": "display_data"
    }
   ],
   "source": [
    "# предыдущая диагармма не показала пропуски.\n",
    "# Заполним пропуски новой категорией (самым многочисленной) и посмотрим на распределение данных.\n",
    "data['education'] = data['education'].fillna('SCH')\n",
    "sns.countplot(x = data['education'], data = data)"
   ]
  },
  {
   "cell_type": "code",
   "execution_count": 18,
   "metadata": {},
   "outputs": [],
   "source": [
    "# запишем признак 'education' в категориальный набор данных\n",
    "cat_cols.append('education')"
   ]
  },
  {
   "cell_type": "markdown",
   "metadata": {},
   "source": [
    "Исследуем и преобразуем бинарный признак 'sex'- пол заёмщика."
   ]
  },
  {
   "cell_type": "code",
   "execution_count": 19,
   "metadata": {},
   "outputs": [
    {
     "data": {
      "text/plain": [
       "<matplotlib.axes._subplots.AxesSubplot at 0x1b8010a8908>"
      ]
     },
     "execution_count": 19,
     "metadata": {},
     "output_type": "execute_result"
    },
    {
     "data": {
      "image/png": "[encoded data removed]",
      "text/plain": [
       "<Figure size 432x288 with 1 Axes>"
      ]
     },
     "metadata": {
      "needs_background": "light"
     },
     "output_type": "display_data"
    }
   ],
   "source": [
    "# распределение относительно целевого признака\n",
    "sns.countplot(x= data['default'],hue = data['sex'], data = data)"
   ]
  },
  {
   "cell_type": "markdown",
   "metadata": {},
   "source": [
    "Заёмщиков, которые возвращали кредит, больше. Женщин больше как в группе заёмщиком с дефолтом, так и в группе без дефолта."
   ]
  },
  {
   "cell_type": "code",
   "execution_count": 20,
   "metadata": {},
   "outputs": [],
   "source": [
    "# запишем признак 'sex' в бинарный набор данных\n",
    "bin_cols.append('sex')"
   ]
  },
  {
   "cell_type": "markdown",
   "metadata": {},
   "source": [
    "Исследуем признак age - возраст заёмщика."
   ]
  },
  {
   "cell_type": "code",
   "execution_count": 21,
   "metadata": {},
   "outputs": [
    {
     "name": "stdout",
     "output_type": "stream",
     "text": [
      "0\n"
     ]
    },
    {
     "data": {
      "image/png": "[encoded data removed]",
      "text/plain": [
       "<Figure size 432x288 with 1 Axes>"
      ]
     },
     "metadata": {
      "needs_background": "light"
     },
     "output_type": "display_data"
    },
    {
     "data": {
      "image/png": "[encoded data removed]",
      "text/plain": [
       "<Figure size 432x288 with 1 Axes>"
      ]
     },
     "metadata": {
      "needs_background": "light"
     },
     "output_type": "display_data"
    }
   ],
   "source": [
    "# визуализация для просмотра выбросов\n",
    "print(outliers(data.age)[0])\n",
    "visualizing_number(data.age)"
   ]
  },
  {
   "cell_type": "code",
   "execution_count": 22,
   "metadata": {},
   "outputs": [
    {
     "data": {
      "image/png": "[encoded data removed]",
      "text/plain": [
       "<Figure size 432x288 with 1 Axes>"
      ]
     },
     "metadata": {
      "needs_background": "light"
     },
     "output_type": "display_data"
    },
    {
     "data": {
      "image/png": "[encoded data removed]",
      "text/plain": [
       "<Figure size 432x288 with 1 Axes>"
      ]
     },
     "metadata": {
      "needs_background": "light"
     },
     "output_type": "display_data"
    }
   ],
   "source": [
    "# и применение логарифма\n",
    "visualizing_number(np.log(data.age + 1))"
   ]
  },
  {
   "cell_type": "markdown",
   "metadata": {},
   "source": [
    "Выбросов в признаке 'age' не наблюдаем."
   ]
  },
  {
   "cell_type": "code",
   "execution_count": 23,
   "metadata": {},
   "outputs": [],
   "source": [
    "# запишем признак 'age' в числовой набор данных\n",
    "num_cols.append('age')"
   ]
  },
  {
   "cell_type": "markdown",
   "metadata": {},
   "source": [
    "Исследуем признаки 'car' - флаг наличия автомобиля и 'car type' - флаг автомобиля марки.\n",
    "Пропучки отсутствуют. Призаки бинарные, т.к. имеют по 2 значения."
   ]
  },
  {
   "cell_type": "code",
   "execution_count": 24,
   "metadata": {},
   "outputs": [
    {
     "data": {
      "text/plain": [
       "<matplotlib.axes._subplots.AxesSubplot at 0x1b8014eba48>"
      ]
     },
     "execution_count": 24,
     "metadata": {},
     "output_type": "execute_result"
    },
    {
     "data": {
      "image/png": "[encoded data removed]",
      "text/plain": [
       "<Figure size 432x288 with 1 Axes>"
      ]
     },
     "metadata": {
      "needs_background": "light"
     },
     "output_type": "display_data"
    }
   ],
   "source": [
    "# рассмотрим распределение относительно целевого признака\n",
    "sns.countplot(x = data['default'], hue= data['car'], data = data)"
   ]
  },
  {
   "cell_type": "code",
   "execution_count": 25,
   "metadata": {},
   "outputs": [
    {
     "data": {
      "text/plain": [
       "<matplotlib.axes._subplots.AxesSubplot at 0x1b8004ba108>"
      ]
     },
     "execution_count": 25,
     "metadata": {},
     "output_type": "execute_result"
    },
    {
     "data": {
      "image/png": "[encoded data removed]",
      "text/plain": [
       "<Figure size 432x288 with 1 Axes>"
      ]
     },
     "metadata": {
      "needs_background": "light"
     },
     "output_type": "display_data"
    }
   ],
   "source": [
    "sns.countplot(x = data['default'], hue= data['car_type'], data = data)"
   ]
  },
  {
   "cell_type": "markdown",
   "metadata": {},
   "source": [
    "Недефолтные клиенты чаще всего имеют автомобиль, и этот автомобиль не является иномаркой."
   ]
  },
  {
   "cell_type": "code",
   "execution_count": 26,
   "metadata": {},
   "outputs": [],
   "source": [
    "# отнесём признаки 'car' и 'car_type' к бинарному набору данных\n",
    "bin_cols.append('car')\n",
    "bin_cols.append('car_type')"
   ]
  },
  {
   "cell_type": "markdown",
   "metadata": {},
   "source": [
    "Исследуем признак decline_app_cnt - количество отказанных прошлых заявок."
   ]
  },
  {
   "cell_type": "code",
   "execution_count": 27,
   "metadata": {},
   "outputs": [
    {
     "name": "stdout",
     "output_type": "stream",
     "text": [
      "18677\n"
     ]
    },
    {
     "data": {
      "text/plain": [
       "0     91471\n",
       "1     12500\n",
       "2      3622\n",
       "3      1365\n",
       "4       606\n",
       "5       255\n",
       "6       156\n",
       "7        58\n",
       "8        37\n",
       "9        29\n",
       "10       16\n",
       "11       10\n",
       "12        5\n",
       "13        4\n",
       "14        3\n",
       "16        3\n",
       "30        1\n",
       "15        1\n",
       "19        1\n",
       "20        1\n",
       "21        1\n",
       "22        1\n",
       "24        1\n",
       "33        1\n",
       "Name: decline_app_cnt, dtype: int64"
      ]
     },
     "execution_count": 27,
     "metadata": {},
     "output_type": "execute_result"
    },
    {
     "data": {
      "image/png": "[encoded data removed]",
      "text/plain": [
       "<Figure size 432x288 with 1 Axes>"
      ]
     },
     "metadata": {
      "needs_background": "light"
     },
     "output_type": "display_data"
    }
   ],
   "source": [
    "print(outliers(data.decline_app_cnt)[0])\n",
    "sns.countplot(x = 'decline_app_cnt', data = data)\n",
    "data.decline_app_cnt.value_counts()"
   ]
  },
  {
   "cell_type": "code",
   "execution_count": 28,
   "metadata": {},
   "outputs": [
    {
     "name": "stdout",
     "output_type": "stream",
     "text": [
      "Всего выбросов: 18677 \n",
      "Доля выбросов: 16.95627700911501\n"
     ]
    }
   ],
   "source": [
    "# определим количество и долю выбросов\n",
    "outs, min_out, max_out = outliers(data['decline_app_cnt'])\n",
    "print('Всего выбросов: {} \\nДоля выбросов: {}'.format(outs, outs / data.shape[0] *100))"
   ]
  },
  {
   "cell_type": "markdown",
   "metadata": {},
   "source": [
    "Выделим несколько групп: те, кто повторно подавал заявку 0 раз, 1, 2 и 3 или более раз. \n",
    "Преобразуем признак из числового к категориальному."
   ]
  },
  {
   "cell_type": "code",
   "execution_count": 29,
   "metadata": {},
   "outputs": [],
   "source": [
    "data.decline_app_cnt = data.decline_app_cnt.apply(lambda x: x if x < 3 else 3)\n",
    "data.decline_app_cnt.value_counts()\n",
    "cat_cols.append('decline_app_cnt')"
   ]
  },
  {
   "cell_type": "markdown",
   "metadata": {},
   "source": [
    "Исследуем признак good_work - флаг наличия “хорошей” работы."
   ]
  },
  {
   "cell_type": "code",
   "execution_count": 30,
   "metadata": {},
   "outputs": [
    {
     "data": {
      "text/plain": [
       "<matplotlib.axes._subplots.AxesSubplot at 0x1b801125fc8>"
      ]
     },
     "execution_count": 30,
     "metadata": {},
     "output_type": "execute_result"
    },
    {
     "data": {
      "image/png": "[encoded data removed]",
      "text/plain": [
       "<Figure size 432x288 with 1 Axes>"
      ]
     },
     "metadata": {
      "needs_background": "light"
     },
     "output_type": "display_data"
    }
   ],
   "source": [
    "# распределение признака относительно целевого\n",
    "sns.countplot(x = data['default'], hue= data['good_work'], data = data)"
   ]
  },
  {
   "cell_type": "markdown",
   "metadata": {},
   "source": [
    "Хорошая работа у меньшей доли исследуемой аудитории. У клиентов с дефолтом, как правило нет хорошей работы. Признак бинарный. Без выбросов."
   ]
  },
  {
   "cell_type": "code",
   "execution_count": 31,
   "metadata": {},
   "outputs": [],
   "source": [
    "# определяем в набор бинарных признаков\n",
    "bin_cols.append('good_work')"
   ]
  },
  {
   "cell_type": "code",
   "execution_count": 32,
   "metadata": {},
   "outputs": [
    {
     "name": "stdout",
     "output_type": "stream",
     "text": [
      "Всего выбросов: 518 \n",
      "Доля выбросов: 0.47027635544903224\n"
     ]
    }
   ],
   "source": [
    "# определим количество и долю выбросов\n",
    "outs, min_out, max_out = outliers(data['score_bki'])\n",
    "print('Всего выбросов: {} \\nДоля выбросов: {}'.format(outs, outs / data.shape[0] *100))"
   ]
  },
  {
   "cell_type": "code",
   "execution_count": 33,
   "metadata": {},
   "outputs": [],
   "source": [
    "# исключаем выбросы\n",
    "data = data[((data.default.isna() == False) & (data['score_bki'].between(min_out, max_out))) | data.default.isna() == True]"
   ]
  },
  {
   "cell_type": "code",
   "execution_count": 34,
   "metadata": {},
   "outputs": [],
   "source": [
    "# определяем в набор числовых признаков\n",
    "num_cols.append('score_bki')"
   ]
  },
  {
   "cell_type": "markdown",
   "metadata": {},
   "source": [
    "Исследуем признак bki_request_cnt - количество запросов в БКИ"
   ]
  },
  {
   "cell_type": "code",
   "execution_count": 35,
   "metadata": {},
   "outputs": [
    {
     "name": "stdout",
     "output_type": "stream",
     "text": [
      "Всего выбросов: 2591 \n",
      "Доля выбросов: 2.3595730730001456\n"
     ]
    }
   ],
   "source": [
    "# определим количество и долю выбросов\n",
    "outs, min_out, max_out = outliers(data['bki_request_cnt'])\n",
    "print('Всего выбросов: {} \\nДоля выбросов: {}'.format(outs, outs / data.shape[0] *100))"
   ]
  },
  {
   "cell_type": "code",
   "execution_count": 36,
   "metadata": {},
   "outputs": [
    {
     "data": {
      "image/png": "[encoded data removed]",
      "text/plain": [
       "<Figure size 432x288 with 1 Axes>"
      ]
     },
     "metadata": {
      "needs_background": "light"
     },
     "output_type": "display_data"
    },
    {
     "data": {
      "image/png": "[encoded data removed]",
      "text/plain": [
       "<Figure size 432x288 with 1 Axes>"
      ]
     },
     "metadata": {
      "needs_background": "light"
     },
     "output_type": "display_data"
    },
    {
     "name": "stdout",
     "output_type": "stream",
     "text": [
      "Всего выбросов: 12 \n",
      "Доля выбросов: 0.01092816552528049\n"
     ]
    }
   ],
   "source": [
    "# применим метод логарифмирования (т.к. выбросов немного)\n",
    "visualizing_number(np.log(data['bki_request_cnt'] + 1))\n",
    "outs, min_out, max_out = outliers(np.log(data['bki_request_cnt'] + 1))\n",
    "print('Всего выбросов: {} \\nДоля выбросов: {}'.format(outs, outs / data.shape[0] *100))"
   ]
  },
  {
   "cell_type": "code",
   "execution_count": 37,
   "metadata": {},
   "outputs": [],
   "source": [
    "# логарифмирование\n",
    "data['bki_request_cnt'] = np.log(data['bki_request_cnt'] + 1)\n",
    "data = data[((data.default.isna() == False) & (data['bki_request_cnt'].between(min_out, max_out))) | data.default.isna() == True]"
   ]
  },
  {
   "cell_type": "code",
   "execution_count": 38,
   "metadata": {},
   "outputs": [],
   "source": [
    "# определяем в набор числовых признаков\n",
    "num_cols.append('bki_request_cnt')"
   ]
  },
  {
   "cell_type": "markdown",
   "metadata": {},
   "source": [
    "Исследуем признак region_rating - рейтинг региона"
   ]
  },
  {
   "cell_type": "code",
   "execution_count": 39,
   "metadata": {},
   "outputs": [
    {
     "name": "stdout",
     "output_type": "stream",
     "text": [
      "Всего выбросов: 17842 \n",
      "Доля выбросов: 16.24924864756562\n"
     ]
    }
   ],
   "source": [
    "# определим количество и долю выбросов\n",
    "outs, min_out, max_out = outliers(np.log(data['region_rating'] + 1))\n",
    "print('Всего выбросов: {} \\nДоля выбросов: {}'.format(outs, outs / data.shape[0] *100))"
   ]
  },
  {
   "cell_type": "code",
   "execution_count": 40,
   "metadata": {},
   "outputs": [
    {
     "data": {
      "text/plain": [
       "<matplotlib.axes._subplots.AxesSubplot at 0x1b8005615c8>"
      ]
     },
     "execution_count": 40,
     "metadata": {},
     "output_type": "execute_result"
    },
    {
     "data": {
      "image/png": "[encoded data removed]",
      "text/plain": [
       "<Figure size 432x288 with 1 Axes>"
      ]
     },
     "metadata": {
      "needs_background": "light"
     },
     "output_type": "display_data"
    }
   ],
   "source": [
    "# распределение относительно целевой переменной\n",
    "sns.countplot(x = data['default'], hue= data['region_rating'], data = data)"
   ]
  },
  {
   "cell_type": "code",
   "execution_count": 41,
   "metadata": {},
   "outputs": [
    {
     "data": {
      "text/plain": [
       "50    40869\n",
       "60    23935\n",
       "40    17903\n",
       "80    17097\n",
       "70     9253\n",
       "30      433\n",
       "20      312\n",
       "Name: region_rating, dtype: int64"
      ]
     },
     "execution_count": 41,
     "metadata": {},
     "output_type": "execute_result"
    }
   ],
   "source": [
    "data.region_rating.value_counts()"
   ]
  },
  {
   "cell_type": "code",
   "execution_count": 42,
   "metadata": {},
   "outputs": [],
   "source": [
    "# определяем в набор категориальных признаков\n",
    "cat_cols.append('region_rating')"
   ]
  },
  {
   "cell_type": "markdown",
   "metadata": {},
   "source": [
    "Признаки категориальные\n",
    "home_address - категоризатор домашнего адреса\n",
    "work_address - категоризатор рабочего адреса"
   ]
  },
  {
   "cell_type": "code",
   "execution_count": 43,
   "metadata": {},
   "outputs": [],
   "source": [
    "# определяем в набор категориальных признаков\n",
    "cat_cols.append('home_address')"
   ]
  },
  {
   "cell_type": "code",
   "execution_count": 44,
   "metadata": {},
   "outputs": [],
   "source": [
    "# определяем в набор категориальных признаков\n",
    "cat_cols.append('work_address')"
   ]
  },
  {
   "cell_type": "markdown",
   "metadata": {},
   "source": [
    "Признак income - доход заёмщика"
   ]
  },
  {
   "cell_type": "code",
   "execution_count": 45,
   "metadata": {},
   "outputs": [
    {
     "name": "stdout",
     "output_type": "stream",
     "text": [
      "Всего выбросов: 6968 \n",
      "Доля выбросов: 6.3459681973005955\n"
     ]
    },
    {
     "data": {
      "image/png": "[encoded data removed]",
      "text/plain": [
       "<Figure size 432x288 with 1 Axes>"
      ]
     },
     "metadata": {
      "needs_background": "light"
     },
     "output_type": "display_data"
    },
    {
     "data": {
      "image/png": "[encoded data removed]",
      "text/plain": [
       "<Figure size 432x288 with 1 Axes>"
      ]
     },
     "metadata": {
      "needs_background": "light"
     },
     "output_type": "display_data"
    }
   ],
   "source": [
    "# посмотрим на долю выбросов и распределение\n",
    "outs, min_out, max_out = outliers(data['income'])\n",
    "print('Всего выбросов: {} \\nДоля выбросов: {}'.format(outs, outs / data.shape[0] *100))\n",
    "visualizing_number(data.income)"
   ]
  },
  {
   "cell_type": "code",
   "execution_count": 46,
   "metadata": {},
   "outputs": [
    {
     "name": "stdout",
     "output_type": "stream",
     "text": [
      "Всего выбросов: 2593 \n",
      "Доля выбросов: 2.3615234695178593\n"
     ]
    },
    {
     "data": {
      "image/png": "[encoded data removed]",
      "text/plain": [
       "<Figure size 432x288 with 1 Axes>"
      ]
     },
     "metadata": {
      "needs_background": "light"
     },
     "output_type": "display_data"
    },
    {
     "data": {
      "image/png": "[encoded data removed]",
      "text/plain": [
       "<Figure size 432x288 with 1 Axes>"
      ]
     },
     "metadata": {
      "needs_background": "light"
     },
     "output_type": "display_data"
    }
   ],
   "source": [
    "# выбросов много. Логарифмируем и улучшаем распределение.\n",
    "outs, min_out, max_out = outliers(np.log(data['income'] + 1))\n",
    "print('Всего выбросов: {} \\nДоля выбросов: {}'.format(outs, outs / data.shape[0] *100))\n",
    "visualizing_number(np.log(data['income'] + 1))"
   ]
  },
  {
   "cell_type": "markdown",
   "metadata": {},
   "source": [
    "Логарифмирование улучшило распределение.Количество выбросов сократилось до 2%."
   ]
  },
  {
   "cell_type": "code",
   "execution_count": 47,
   "metadata": {},
   "outputs": [],
   "source": [
    "# логарифмирование\n",
    "data['income'] = np.log(data['income'] + 1)"
   ]
  },
  {
   "cell_type": "code",
   "execution_count": 48,
   "metadata": {},
   "outputs": [],
   "source": [
    "# определяем признак к числовой группе данных\n",
    "num_cols.append('income')"
   ]
  },
  {
   "cell_type": "markdown",
   "metadata": {},
   "source": [
    "Категориальные признкаи без пропусков.\n",
    "sna - связь заемщика с клиентами банка\n",
    "first_time - давность наличия информации о заемщике"
   ]
  },
  {
   "cell_type": "code",
   "execution_count": 49,
   "metadata": {},
   "outputs": [],
   "source": [
    "# Определяем к категориальному набору данных\n",
    "cat_cols.append('sna')\n",
    "cat_cols.append('first_time')"
   ]
  },
  {
   "cell_type": "markdown",
   "metadata": {},
   "source": [
    "Признак foreign_passport - наличие загранпаспорта"
   ]
  },
  {
   "cell_type": "code",
   "execution_count": 50,
   "metadata": {},
   "outputs": [],
   "source": [
    "# Определяем к бинарному набору данных\n",
    "bin_cols.append('foreign_passport')"
   ]
  },
  {
   "cell_type": "markdown",
   "metadata": {},
   "source": [
    "Работа с числовыми признакми"
   ]
  },
  {
   "cell_type": "code",
   "execution_count": 51,
   "metadata": {},
   "outputs": [
    {
     "data": {
      "text/plain": [
       "<matplotlib.axes._subplots.AxesSubplot at 0x1b801ca7848>"
      ]
     },
     "execution_count": 51,
     "metadata": {},
     "output_type": "execute_result"
    },
    {
     "data": {
      "image/png": "[encoded data removed]",
      "text/plain": [
       "<Figure size 720x360 with 2 Axes>"
      ]
     },
     "metadata": {
      "needs_background": "light"
     },
     "output_type": "display_data"
    }
   ],
   "source": [
    "plt.figure(figsize=(10,5))\n",
    "sns.heatmap(data[num_cols+['default']].corr(), annot=True)"
   ]
  },
  {
   "cell_type": "markdown",
   "metadata": {},
   "source": [
    "Сильная корреляция между признаками app_date_month и app_date_season. \n",
    "Оставляем app_date_month, т.к. он сильнее коррелирует с целевой переменной. app_date_season - удаляем."
   ]
  },
  {
   "cell_type": "code",
   "execution_count": 52,
   "metadata": {},
   "outputs": [],
   "source": [
    "# удаление признака\n",
    "data = data.drop('app_date_season',axis=1)\n",
    "num_cols.remove('app_date_season')"
   ]
  },
  {
   "cell_type": "code",
   "execution_count": 53,
   "metadata": {},
   "outputs": [
    {
     "data": {
      "text/plain": [
       "<matplotlib.axes._subplots.AxesSubplot at 0x1b800526708>"
      ]
     },
     "execution_count": 53,
     "metadata": {},
     "output_type": "execute_result"
    },
    {
     "data": {
      "image/png": "[encoded data removed]",
      "text/plain": [
       "<Figure size 432x288 with 1 Axes>"
      ]
     },
     "metadata": {
      "needs_background": "light"
     },
     "output_type": "display_data"
    }
   ],
   "source": [
    "# исследуем значимость числовых признаков\n",
    "imp_num = Series(f_classif(data[data.default.isna() == False][num_cols], data[data.default.isna() == False]['default'])[0], index = num_cols)\n",
    "imp_num.sort_values(inplace = True)\n",
    "imp_num.plot(kind = 'barh')"
   ]
  },
  {
   "cell_type": "markdown",
   "metadata": {},
   "source": [
    "Наибольший вклад приносит score_bki, остальные признаки менее значимы"
   ]
  },
  {
   "cell_type": "markdown",
   "metadata": {},
   "source": [
    "Работа с бинарными признаками"
   ]
  },
  {
   "cell_type": "code",
   "execution_count": 54,
   "metadata": {},
   "outputs": [],
   "source": [
    "# преобразование значений в числа для дальнейшей работы\n",
    "label_encoder = LabelEncoder()\n",
    "for i in bin_cols:\n",
    "    data[i] = label_encoder.fit_transform(data[i])"
   ]
  },
  {
   "cell_type": "code",
   "execution_count": 55,
   "metadata": {},
   "outputs": [
    {
     "data": {
      "text/html": [
       "<div>\n",
       "<style scoped>\n",
       "    .dataframe tbody tr th:only-of-type {\n",
       "        vertical-align: middle;\n",
       "    }\n",
       "\n",
       "    .dataframe tbody tr th {\n",
       "        vertical-align: top;\n",
       "    }\n",
       "\n",
       "    .dataframe thead th {\n",
       "        text-align: right;\n",
       "    }\n",
       "</style>\n",
       "<table border=\"1\" class=\"dataframe\">\n",
       "  <thead>\n",
       "    <tr style=\"text-align: right;\">\n",
       "      <th></th>\n",
       "      <th>sex</th>\n",
       "      <th>car</th>\n",
       "      <th>car_type</th>\n",
       "      <th>good_work</th>\n",
       "      <th>foreign_passport</th>\n",
       "    </tr>\n",
       "  </thead>\n",
       "  <tbody>\n",
       "    <tr>\n",
       "      <td>0</td>\n",
       "      <td>1</td>\n",
       "      <td>1</td>\n",
       "      <td>1</td>\n",
       "      <td>0</td>\n",
       "      <td>0</td>\n",
       "    </tr>\n",
       "    <tr>\n",
       "      <td>1</td>\n",
       "      <td>0</td>\n",
       "      <td>0</td>\n",
       "      <td>0</td>\n",
       "      <td>0</td>\n",
       "      <td>0</td>\n",
       "    </tr>\n",
       "    <tr>\n",
       "      <td>2</td>\n",
       "      <td>1</td>\n",
       "      <td>1</td>\n",
       "      <td>0</td>\n",
       "      <td>0</td>\n",
       "      <td>1</td>\n",
       "    </tr>\n",
       "    <tr>\n",
       "      <td>3</td>\n",
       "      <td>0</td>\n",
       "      <td>0</td>\n",
       "      <td>0</td>\n",
       "      <td>0</td>\n",
       "      <td>0</td>\n",
       "    </tr>\n",
       "    <tr>\n",
       "      <td>4</td>\n",
       "      <td>1</td>\n",
       "      <td>0</td>\n",
       "      <td>0</td>\n",
       "      <td>1</td>\n",
       "      <td>1</td>\n",
       "    </tr>\n",
       "  </tbody>\n",
       "</table>\n",
       "</div>"
      ],
      "text/plain": [
       "   sex  car  car_type  good_work  foreign_passport\n",
       "0    1    1         1          0                 0\n",
       "1    0    0         0          0                 0\n",
       "2    1    1         0          0                 1\n",
       "3    0    0         0          0                 0\n",
       "4    1    0         0          1                 1"
      ]
     },
     "execution_count": 55,
     "metadata": {},
     "output_type": "execute_result"
    }
   ],
   "source": [
    "# смотрим, что получилось\n",
    "data[bin_cols].head(5)"
   ]
  },
  {
   "cell_type": "code",
   "execution_count": 56,
   "metadata": {},
   "outputs": [
    {
     "data": {
      "text/plain": [
       "0    61637\n",
       "1    48165\n",
       "Name: sex, dtype: int64"
      ]
     },
     "metadata": {},
     "output_type": "display_data"
    },
    {
     "data": {
      "text/plain": [
       "0    74050\n",
       "1    35752\n",
       "Name: car, dtype: int64"
      ]
     },
     "metadata": {},
     "output_type": "display_data"
    },
    {
     "data": {
      "text/plain": [
       "0    88857\n",
       "1    20945\n",
       "Name: car_type, dtype: int64"
      ]
     },
     "metadata": {},
     "output_type": "display_data"
    },
    {
     "data": {
      "text/plain": [
       "0    91629\n",
       "1    18173\n",
       "Name: good_work, dtype: int64"
      ]
     },
     "metadata": {},
     "output_type": "display_data"
    },
    {
     "data": {
      "text/plain": [
       "0    93439\n",
       "1    16363\n",
       "Name: foreign_passport, dtype: int64"
      ]
     },
     "metadata": {},
     "output_type": "display_data"
    }
   ],
   "source": [
    "# подсчитываем количество каждого значения в признаке\n",
    "for i in bin_cols:\n",
    "    display(data[i].value_counts())"
   ]
  },
  {
   "cell_type": "code",
   "execution_count": 57,
   "metadata": {},
   "outputs": [
    {
     "data": {
      "text/plain": [
       "<matplotlib.axes._subplots.AxesSubplot at 0x1b8035d96c8>"
      ]
     },
     "execution_count": 57,
     "metadata": {},
     "output_type": "execute_result"
    },
    {
     "data": {
      "image/png": "[encoded data removed]",
      "text/plain": [
       "<Figure size 432x288 with 1 Axes>"
      ]
     },
     "metadata": {
      "needs_background": "light"
     },
     "output_type": "display_data"
    }
   ],
   "source": [
    "# исследуем значимость бинарных признаков\n",
    "imp_cat = Series(mutual_info_classif(data[data.default.isna() == False][bin_cols], data[data.default.isna() == False]['default'],\n",
    "                                     discrete_features =True), index = bin_cols)\n",
    "imp_cat.sort_values(inplace = True)\n",
    "imp_cat.plot(kind = 'barh')"
   ]
  },
  {
   "cell_type": "markdown",
   "metadata": {},
   "source": [
    "Самый значимый - foreign_passport. Car_type - тоже важный признак."
   ]
  },
  {
   "cell_type": "markdown",
   "metadata": {},
   "source": [
    "Работа с категориальными признаками."
   ]
  },
  {
   "cell_type": "code",
   "execution_count": 58,
   "metadata": {},
   "outputs": [
    {
     "data": {
      "text/plain": [
       "<matplotlib.axes._subplots.AxesSubplot at 0x1b80147fb48>"
      ]
     },
     "execution_count": 58,
     "metadata": {},
     "output_type": "execute_result"
    },
    {
     "data": {
      "image/png": "[encoded data removed]",
      "text/plain": [
       "<Figure size 432x288 with 1 Axes>"
      ]
     },
     "metadata": {
      "needs_background": "light"
     },
     "output_type": "display_data"
    }
   ],
   "source": [
    "# преобразование значений в числа и исследование значимости признаков\n",
    "for i in cat_cols:\n",
    "    label_encoder.fit(data[i])\n",
    "    data[i] = label_encoder.transform(data[i])\n",
    "    \n",
    "imp_cat = Series(mutual_info_classif(data[data.default.isna() == False][cat_cols], data[data.default.isna() == False]['default'],\n",
    "                                     discrete_features =True), index = cat_cols)\n",
    "imp_cat.sort_values(inplace = True)\n",
    "imp_cat.plot(kind = 'barh')"
   ]
  },
  {
   "cell_type": "markdown",
   "metadata": {},
   "source": [
    "Все бинарные признаки имеют значимость"
   ]
  },
  {
   "cell_type": "code",
   "execution_count": 59,
   "metadata": {},
   "outputs": [],
   "source": [
    "# преобразование в дамми переменные\n",
    "data = pd.get_dummies(data, columns = cat_cols)"
   ]
  },
  {
   "cell_type": "code",
   "execution_count": 60,
   "metadata": {},
   "outputs": [
    {
     "data": {
      "text/html": [
       "<div>\n",
       "<style scoped>\n",
       "    .dataframe tbody tr th:only-of-type {\n",
       "        vertical-align: middle;\n",
       "    }\n",
       "\n",
       "    .dataframe tbody tr th {\n",
       "        vertical-align: top;\n",
       "    }\n",
       "\n",
       "    .dataframe thead th {\n",
       "        text-align: right;\n",
       "    }\n",
       "</style>\n",
       "<table border=\"1\" class=\"dataframe\">\n",
       "  <thead>\n",
       "    <tr style=\"text-align: right;\">\n",
       "      <th></th>\n",
       "      <th>client_id</th>\n",
       "      <th>sex</th>\n",
       "      <th>age</th>\n",
       "      <th>car</th>\n",
       "      <th>car_type</th>\n",
       "      <th>good_work</th>\n",
       "      <th>score_bki</th>\n",
       "      <th>bki_request_cnt</th>\n",
       "      <th>income</th>\n",
       "      <th>foreign_passport</th>\n",
       "      <th>...</th>\n",
       "      <th>work_address_1</th>\n",
       "      <th>work_address_2</th>\n",
       "      <th>sna_0</th>\n",
       "      <th>sna_1</th>\n",
       "      <th>sna_2</th>\n",
       "      <th>sna_3</th>\n",
       "      <th>first_time_0</th>\n",
       "      <th>first_time_1</th>\n",
       "      <th>first_time_2</th>\n",
       "      <th>first_time_3</th>\n",
       "    </tr>\n",
       "  </thead>\n",
       "  <tbody>\n",
       "    <tr>\n",
       "      <td>0</td>\n",
       "      <td>25905</td>\n",
       "      <td>1</td>\n",
       "      <td>62</td>\n",
       "      <td>1</td>\n",
       "      <td>1</td>\n",
       "      <td>0</td>\n",
       "      <td>-2.008753</td>\n",
       "      <td>0.693147</td>\n",
       "      <td>9.798183</td>\n",
       "      <td>0</td>\n",
       "      <td>...</td>\n",
       "      <td>1</td>\n",
       "      <td>0</td>\n",
       "      <td>0</td>\n",
       "      <td>0</td>\n",
       "      <td>0</td>\n",
       "      <td>1</td>\n",
       "      <td>1</td>\n",
       "      <td>0</td>\n",
       "      <td>0</td>\n",
       "      <td>0</td>\n",
       "    </tr>\n",
       "    <tr>\n",
       "      <td>1</td>\n",
       "      <td>63161</td>\n",
       "      <td>0</td>\n",
       "      <td>59</td>\n",
       "      <td>0</td>\n",
       "      <td>0</td>\n",
       "      <td>0</td>\n",
       "      <td>-1.532276</td>\n",
       "      <td>1.386294</td>\n",
       "      <td>9.852247</td>\n",
       "      <td>0</td>\n",
       "      <td>...</td>\n",
       "      <td>0</td>\n",
       "      <td>1</td>\n",
       "      <td>0</td>\n",
       "      <td>0</td>\n",
       "      <td>0</td>\n",
       "      <td>1</td>\n",
       "      <td>1</td>\n",
       "      <td>0</td>\n",
       "      <td>0</td>\n",
       "      <td>0</td>\n",
       "    </tr>\n",
       "    <tr>\n",
       "      <td>2</td>\n",
       "      <td>25887</td>\n",
       "      <td>1</td>\n",
       "      <td>25</td>\n",
       "      <td>1</td>\n",
       "      <td>0</td>\n",
       "      <td>0</td>\n",
       "      <td>-1.408142</td>\n",
       "      <td>0.693147</td>\n",
       "      <td>10.308986</td>\n",
       "      <td>1</td>\n",
       "      <td>...</td>\n",
       "      <td>1</td>\n",
       "      <td>0</td>\n",
       "      <td>1</td>\n",
       "      <td>0</td>\n",
       "      <td>0</td>\n",
       "      <td>0</td>\n",
       "      <td>0</td>\n",
       "      <td>0</td>\n",
       "      <td>0</td>\n",
       "      <td>1</td>\n",
       "    </tr>\n",
       "    <tr>\n",
       "      <td>3</td>\n",
       "      <td>16222</td>\n",
       "      <td>0</td>\n",
       "      <td>53</td>\n",
       "      <td>0</td>\n",
       "      <td>0</td>\n",
       "      <td>0</td>\n",
       "      <td>-2.057471</td>\n",
       "      <td>1.098612</td>\n",
       "      <td>9.210440</td>\n",
       "      <td>0</td>\n",
       "      <td>...</td>\n",
       "      <td>0</td>\n",
       "      <td>1</td>\n",
       "      <td>1</td>\n",
       "      <td>0</td>\n",
       "      <td>0</td>\n",
       "      <td>0</td>\n",
       "      <td>0</td>\n",
       "      <td>0</td>\n",
       "      <td>1</td>\n",
       "      <td>0</td>\n",
       "    </tr>\n",
       "    <tr>\n",
       "      <td>4</td>\n",
       "      <td>101655</td>\n",
       "      <td>1</td>\n",
       "      <td>48</td>\n",
       "      <td>0</td>\n",
       "      <td>0</td>\n",
       "      <td>1</td>\n",
       "      <td>-1.244723</td>\n",
       "      <td>0.693147</td>\n",
       "      <td>10.308986</td>\n",
       "      <td>1</td>\n",
       "      <td>...</td>\n",
       "      <td>0</td>\n",
       "      <td>1</td>\n",
       "      <td>1</td>\n",
       "      <td>0</td>\n",
       "      <td>0</td>\n",
       "      <td>0</td>\n",
       "      <td>0</td>\n",
       "      <td>0</td>\n",
       "      <td>0</td>\n",
       "      <td>1</td>\n",
       "    </tr>\n",
       "  </tbody>\n",
       "</table>\n",
       "<p>5 rows × 44 columns</p>\n",
       "</div>"
      ],
      "text/plain": [
       "   client_id  sex  age  car  car_type  good_work  score_bki  bki_request_cnt  \\\n",
       "0      25905    1   62    1         1          0  -2.008753         0.693147   \n",
       "1      63161    0   59    0         0          0  -1.532276         1.386294   \n",
       "2      25887    1   25    1         0          0  -1.408142         0.693147   \n",
       "3      16222    0   53    0         0          0  -2.057471         1.098612   \n",
       "4     101655    1   48    0         0          1  -1.244723         0.693147   \n",
       "\n",
       "      income  foreign_passport  ...  work_address_1  work_address_2  sna_0  \\\n",
       "0   9.798183                 0  ...               1               0      0   \n",
       "1   9.852247                 0  ...               0               1      0   \n",
       "2  10.308986                 1  ...               1               0      1   \n",
       "3   9.210440                 0  ...               0               1      1   \n",
       "4  10.308986                 1  ...               0               1      1   \n",
       "\n",
       "   sna_1  sna_2  sna_3  first_time_0  first_time_1  first_time_2  first_time_3  \n",
       "0      0      0      1             1             0             0             0  \n",
       "1      0      0      1             1             0             0             0  \n",
       "2      0      0      0             0             0             0             1  \n",
       "3      0      0      0             0             0             1             0  \n",
       "4      0      0      0             0             0             0             1  \n",
       "\n",
       "[5 rows x 44 columns]"
      ]
     },
     "execution_count": 60,
     "metadata": {},
     "output_type": "execute_result"
    }
   ],
   "source": [
    "# просмотр преобразования\n",
    "data.head(5)"
   ]
  },
  {
   "cell_type": "markdown",
   "metadata": {},
   "source": [
    "ОБУЧЕНИЕ"
   ]
  },
  {
   "cell_type": "code",
   "execution_count": 61,
   "metadata": {},
   "outputs": [],
   "source": [
    "def count_metrics(y_test, y_pred, y_probs):    \n",
    "    metrics = {}\n",
    "    metrics['accuracy'] = accuracy_score(y_test, y_pred)\n",
    "    metrics['f1'] = f1_score(y_test, y_pred)\n",
    "    metrics['roc_auc'] = roc_auc_score(y_test, y_probs)  \n",
    "    metrics['confusion'] = confusion_matrix(y_test, y_pred)\n",
    "    return metrics \n",
    "\n",
    "def show_roc_auc(y_test, y_probs):\n",
    "    fpr, tpr, threshold = roc_curve(y_test, y_probs)\n",
    "    roc_auc = roc_auc_score(y_test, y_probs)\n",
    "    plt.figure()\n",
    "    plt.plot([0, 1], label='Baseline', linestyle='--')\n",
    "    plt.plot(fpr, tpr, label = 'Regression')\n",
    "    plt.title('Logistic Regression ROC AUC = %0.3f' % roc_auc)\n",
    "    plt.ylabel('True Positive Rate')\n",
    "    plt.xlabel('False Positive Rate')\n",
    "    plt.legend(loc = 'lower right')\n",
    "    plt.show()"
   ]
  },
  {
   "cell_type": "code",
   "execution_count": 62,
   "metadata": {},
   "outputs": [],
   "source": [
    "# выделение тестовой и тренировочной части\n",
    "data_train = data[data.default.isna() == False]\n",
    "data_test = data[data.default.isna() == True]"
   ]
  },
  {
   "cell_type": "code",
   "execution_count": 63,
   "metadata": {},
   "outputs": [
    {
     "ename": "SyntaxError",
     "evalue": "invalid syntax (<ipython-input-63-0e713375d381>, line 1)",
     "output_type": "error",
     "traceback": [
      "\u001b[1;36m  File \u001b[1;32m\"<ipython-input-63-0e713375d381>\"\u001b[1;36m, line \u001b[1;32m1\u001b[0m\n\u001b[1;33m    НАИВНАЯ МОДЕЛЬ\u001b[0m\n\u001b[1;37m                 ^\u001b[0m\n\u001b[1;31mSyntaxError\u001b[0m\u001b[1;31m:\u001b[0m invalid syntax\n"
     ]
    }
   ],
   "source": [
    "НАИВНАЯ МОДЕЛЬ"
   ]
  },
  {
   "cell_type": "code",
   "execution_count": 64,
   "metadata": {},
   "outputs": [
    {
     "data": {
      "image/png": "[encoded data removed]",
      "text/plain": [
       "<Figure size 432x288 with 1 Axes>"
      ]
     },
     "metadata": {
      "needs_background": "light"
     },
     "output_type": "display_data"
    },
    {
     "data": {
      "text/html": [
       "<div>\n",
       "<style scoped>\n",
       "    .dataframe tbody tr th:only-of-type {\n",
       "        vertical-align: middle;\n",
       "    }\n",
       "\n",
       "    .dataframe tbody tr th {\n",
       "        vertical-align: top;\n",
       "    }\n",
       "\n",
       "    .dataframe thead th {\n",
       "        text-align: right;\n",
       "    }\n",
       "</style>\n",
       "<table border=\"1\" class=\"dataframe\">\n",
       "  <thead>\n",
       "    <tr style=\"text-align: right;\">\n",
       "      <th></th>\n",
       "      <th>naive</th>\n",
       "    </tr>\n",
       "  </thead>\n",
       "  <tbody>\n",
       "    <tr>\n",
       "      <td>accuracy</td>\n",
       "      <td>0.873868</td>\n",
       "    </tr>\n",
       "    <tr>\n",
       "      <td>f1</td>\n",
       "      <td>0.0482794</td>\n",
       "    </tr>\n",
       "    <tr>\n",
       "      <td>roc_auc</td>\n",
       "      <td>0.729721</td>\n",
       "    </tr>\n",
       "    <tr>\n",
       "      <td>confusion</td>\n",
       "      <td>[[12791, 47], [1806, 47]]</td>\n",
       "    </tr>\n",
       "  </tbody>\n",
       "</table>\n",
       "</div>"
      ],
      "text/plain": [
       "                               naive\n",
       "accuracy                    0.873868\n",
       "f1                         0.0482794\n",
       "roc_auc                     0.729721\n",
       "confusion  [[12791, 47], [1806, 47]]"
      ]
     },
     "metadata": {},
     "output_type": "display_data"
    }
   ],
   "source": [
    "X = data_train.drop(['client_id','default'], axis=1).values\n",
    "Y = data_train['default'].values\n",
    "\n",
    "# Делим данные на еще один тест и трейн, для валидации,  \n",
    "# чтобы проверить, как хорошо модель работает, до отправки submissiona на kaggle.\n",
    "X_train, X_test, y_train, y_test = train_test_split(X, Y, test_size=0.20, random_state=42)\n",
    "\n",
    "# обучение модели\n",
    "model_naive = LogisticRegression(solver = 'liblinear')\n",
    "model_naive.fit(X_train, y_train)\n",
    "y_pred = model_naive.predict(X_test)\n",
    "y_probs = model_naive.predict_proba(X_test)[:,1]\n",
    "\n",
    "#посмотрю метрики\n",
    "metrics_naive = count_metrics(y_test, y_pred, y_probs)\n",
    "data_metrics = pd.DataFrame.from_dict(metrics_naive, orient='index',columns = ['naive'])\n",
    "\n",
    "show_roc_auc(y_test, y_probs)\n",
    "display(data_metrics)"
   ]
  },
  {
   "cell_type": "markdown",
   "metadata": {},
   "source": [
    "Ошибка второго рода, дефолтных клиентов угадывает хуже. "
   ]
  },
  {
   "cell_type": "code",
   "execution_count": 65,
   "metadata": {},
   "outputs": [
    {
     "data": {
      "text/plain": [
       "<matplotlib.axes._subplots.AxesSubplot at 0x1b8034e9988>"
      ]
     },
     "execution_count": 65,
     "metadata": {},
     "output_type": "execute_result"
    },
    {
     "data": {
      "image/png": "[encoded data removed]",
      "text/plain": [
       "<Figure size 432x288 with 1 Axes>"
      ]
     },
     "metadata": {
      "needs_background": "light"
     },
     "output_type": "display_data"
    }
   ],
   "source": [
    "# распределение целевой переменной\n",
    "sns.countplot(x = data_train['default'], data = data_train)"
   ]
  },
  {
   "cell_type": "markdown",
   "metadata": {},
   "source": [
    "Распределение целевой переменной несбалансировано. Применим выравнивание количества в дефолтной и недефолтной категориях"
   ]
  },
  {
   "cell_type": "markdown",
   "metadata": {},
   "source": [
    "МОДЕЛЬ С ПЕРЕОБУЧЕНИЕМ"
   ]
  },
  {
   "cell_type": "code",
   "execution_count": 66,
   "metadata": {},
   "outputs": [
    {
     "data": {
      "image/png": "[encoded data removed]",
      "text/plain": [
       "<Figure size 432x288 with 1 Axes>"
      ]
     },
     "metadata": {
      "needs_background": "light"
     },
     "output_type": "display_data"
    },
    {
     "data": {
      "text/html": [
       "<div>\n",
       "<style scoped>\n",
       "    .dataframe tbody tr th:only-of-type {\n",
       "        vertical-align: middle;\n",
       "    }\n",
       "\n",
       "    .dataframe tbody tr th {\n",
       "        vertical-align: top;\n",
       "    }\n",
       "\n",
       "    .dataframe thead th {\n",
       "        text-align: right;\n",
       "    }\n",
       "</style>\n",
       "<table border=\"1\" class=\"dataframe\">\n",
       "  <thead>\n",
       "    <tr style=\"text-align: right;\">\n",
       "      <th></th>\n",
       "      <th>naive</th>\n",
       "      <th>balanced</th>\n",
       "    </tr>\n",
       "  </thead>\n",
       "  <tbody>\n",
       "    <tr>\n",
       "      <td>accuracy</td>\n",
       "      <td>0.873868</td>\n",
       "      <td>0.675391</td>\n",
       "    </tr>\n",
       "    <tr>\n",
       "      <td>f1</td>\n",
       "      <td>0.0482794</td>\n",
       "      <td>0.673009</td>\n",
       "    </tr>\n",
       "    <tr>\n",
       "      <td>roc_auc</td>\n",
       "      <td>0.729721</td>\n",
       "      <td>0.744753</td>\n",
       "    </tr>\n",
       "    <tr>\n",
       "      <td>confusion</td>\n",
       "      <td>[[12791, 47], [1806, 47]]</td>\n",
       "      <td>[[1265, 611], [592, 1238]]</td>\n",
       "    </tr>\n",
       "  </tbody>\n",
       "</table>\n",
       "</div>"
      ],
      "text/plain": [
       "                               naive                    balanced\n",
       "accuracy                    0.873868                    0.675391\n",
       "f1                         0.0482794                    0.673009\n",
       "roc_auc                     0.729721                    0.744753\n",
       "confusion  [[12791, 47], [1806, 47]]  [[1265, 611], [592, 1238]]"
      ]
     },
     "metadata": {},
     "output_type": "display_data"
    }
   ],
   "source": [
    "#выравниваем категории\n",
    "classes = data_train.default.value_counts(ascending=True)\n",
    "minor = data_train[data_train.default == classes.index[0]]\n",
    "other = data_train[data_train.default.isin(classes.index[1:])][:classes.iloc[0]]\n",
    "data_train_balanced = pd.concat([other, minor])\n",
    "\n",
    "X = data_train_balanced.drop(['client_id','default'], axis=1).values\n",
    "Y = data_train_balanced['default'].values\n",
    "\n",
    "# Делим данные на еще один тест и трейн\n",
    "X_train, X_test, y_train, y_test = train_test_split(X, Y, test_size=0.20, random_state=42)\n",
    "\n",
    "#само обучение\n",
    "model_balanced = LogisticRegression(solver = 'liblinear')\n",
    "model_balanced.fit(X_train, y_train)\n",
    "y_pred = model_balanced.predict(X_test)\n",
    "y_probs = model_balanced.predict_proba(X_test)[:,1]\n",
    "\n",
    "#смотрим метрики\n",
    "metrics_balanced = count_metrics(y_test, y_pred, y_probs)\n",
    "data_metrics['balanced'] = pd.Series(metrics_balanced)\n",
    "\n",
    "show_roc_auc(y_test, y_probs)\n",
    "display(data_metrics)"
   ]
  },
  {
   "cell_type": "markdown",
   "metadata": {},
   "source": [
    "По confusion matrix видим, что теперь модель угадывает и дефотных и недефолтных равномерно. \n",
    "Попробуем улучшить метрики, используя нормализацию числовых признаков, т.к. там был разный масштаб"
   ]
  },
  {
   "cell_type": "markdown",
   "metadata": {},
   "source": [
    "МОДЕЛЬ С НОРМАЛИЗАЦИЕЙ И ПЕРЕОБУЧЕНИЕМ"
   ]
  },
  {
   "cell_type": "code",
   "execution_count": 67,
   "metadata": {},
   "outputs": [
    {
     "data": {
      "image/png": "[encoded data removed]",
      "text/plain": [
       "<Figure size 432x288 with 1 Axes>"
      ]
     },
     "metadata": {
      "needs_background": "light"
     },
     "output_type": "display_data"
    },
    {
     "data": {
      "text/html": [
       "<div>\n",
       "<style scoped>\n",
       "    .dataframe tbody tr th:only-of-type {\n",
       "        vertical-align: middle;\n",
       "    }\n",
       "\n",
       "    .dataframe tbody tr th {\n",
       "        vertical-align: top;\n",
       "    }\n",
       "\n",
       "    .dataframe thead th {\n",
       "        text-align: right;\n",
       "    }\n",
       "</style>\n",
       "<table border=\"1\" class=\"dataframe\">\n",
       "  <thead>\n",
       "    <tr style=\"text-align: right;\">\n",
       "      <th></th>\n",
       "      <th>naive</th>\n",
       "      <th>balanced</th>\n",
       "      <th>std_balanced</th>\n",
       "    </tr>\n",
       "  </thead>\n",
       "  <tbody>\n",
       "    <tr>\n",
       "      <td>accuracy</td>\n",
       "      <td>0.873868</td>\n",
       "      <td>0.675391</td>\n",
       "      <td>0.675391</td>\n",
       "    </tr>\n",
       "    <tr>\n",
       "      <td>f1</td>\n",
       "      <td>0.0482794</td>\n",
       "      <td>0.673009</td>\n",
       "      <td>0.673009</td>\n",
       "    </tr>\n",
       "    <tr>\n",
       "      <td>roc_auc</td>\n",
       "      <td>0.729721</td>\n",
       "      <td>0.744753</td>\n",
       "      <td>0.744883</td>\n",
       "    </tr>\n",
       "    <tr>\n",
       "      <td>confusion</td>\n",
       "      <td>[[12791, 47], [1806, 47]]</td>\n",
       "      <td>[[1265, 611], [592, 1238]]</td>\n",
       "      <td>[[1265, 611], [592, 1238]]</td>\n",
       "    </tr>\n",
       "  </tbody>\n",
       "</table>\n",
       "</div>"
      ],
      "text/plain": [
       "                               naive                    balanced  \\\n",
       "accuracy                    0.873868                    0.675391   \n",
       "f1                         0.0482794                    0.673009   \n",
       "roc_auc                     0.729721                    0.744753   \n",
       "confusion  [[12791, 47], [1806, 47]]  [[1265, 611], [592, 1238]]   \n",
       "\n",
       "                         std_balanced  \n",
       "accuracy                     0.675391  \n",
       "f1                           0.673009  \n",
       "roc_auc                      0.744883  \n",
       "confusion  [[1265, 611], [592, 1238]]  "
      ]
     },
     "metadata": {},
     "output_type": "display_data"
    }
   ],
   "source": [
    "#нормализация\n",
    "num_cols_std = StandardScaler().fit_transform(data_train_balanced[num_cols].values)\n",
    "\n",
    "X = np.hstack([data_train_balanced.drop(num_cols + ['client_id','default'], axis=1), num_cols_std])\n",
    "Y = data_train_balanced['default'].values\n",
    "\n",
    "# Делим данные на еще один тест и трейн\n",
    "X_train, X_test, y_train, y_test = train_test_split(X, Y, test_size=0.20, random_state=42)\n",
    "\n",
    "# обучение модели\n",
    "model_std_balanced = LogisticRegression(solver = 'liblinear')\n",
    "model_std_balanced.fit(X_train, y_train)\n",
    "y_pred = model_std_balanced.predict(X_test)\n",
    "y_probs = model_std_balanced.predict_proba(X_test)[:,1]\n",
    "\n",
    "#смотрим метрики\n",
    "metrics_std_balanced = count_metrics(y_test, y_pred, y_probs)\n",
    "data_metrics['std_balanced'] = pd.Series(metrics_std_balanced)\n",
    "\n",
    "show_roc_auc(y_test, y_probs)\n",
    "display(data_metrics)"
   ]
  },
  {
   "cell_type": "markdown",
   "metadata": {},
   "source": [
    "МОДЕЛЬ С НОРМАЛИЗАЦИЕЙ И ПЕРЕОБУЧЕНИЕМ. ПОДБОР ГИПЕРПАРАМЕТРОВ."
   ]
  },
  {
   "cell_type": "code",
   "execution_count": 68,
   "metadata": {},
   "outputs": [
    {
     "name": "stdout",
     "output_type": "stream",
     "text": [
      "Лучший penalty: l1\n",
      "Лучшее C: 10000.0\n"
     ]
    }
   ],
   "source": [
    "# Зададим ограничения для параметра регуляризации\n",
    "C = np.logspace(0, 4, 10)\n",
    "\n",
    "penalty = ['l1','l2']\n",
    "hyperparameters = dict(C=C, penalty=penalty)\n",
    "\n",
    "model = LogisticRegression(solver = 'liblinear')\n",
    "model.fit(X_train, y_train)\n",
    "\n",
    "clf = GridSearchCV(model, hyperparameters, cv=5, verbose=0)\n",
    "\n",
    "best_model = clf.fit(X_train, y_train)\n",
    "\n",
    "print('Лучший penalty:', best_model.best_estimator_.get_params()['penalty'])\n",
    "print('Лучшее C:', best_model.best_estimator_.get_params()['C'])"
   ]
  },
  {
   "cell_type": "code",
   "execution_count": 69,
   "metadata": {},
   "outputs": [
    {
     "data": {
      "image/png": "[encoded data removed]",
      "text/plain": [
       "<Figure size 432x288 with 1 Axes>"
      ]
     },
     "metadata": {
      "needs_background": "light"
     },
     "output_type": "display_data"
    },
    {
     "data": {
      "text/html": [
       "<div>\n",
       "<style scoped>\n",
       "    .dataframe tbody tr th:only-of-type {\n",
       "        vertical-align: middle;\n",
       "    }\n",
       "\n",
       "    .dataframe tbody tr th {\n",
       "        vertical-align: top;\n",
       "    }\n",
       "\n",
       "    .dataframe thead th {\n",
       "        text-align: right;\n",
       "    }\n",
       "</style>\n",
       "<table border=\"1\" class=\"dataframe\">\n",
       "  <thead>\n",
       "    <tr style=\"text-align: right;\">\n",
       "      <th></th>\n",
       "      <th>naive</th>\n",
       "      <th>balanced</th>\n",
       "      <th>std_balanced</th>\n",
       "      <th>finish</th>\n",
       "    </tr>\n",
       "  </thead>\n",
       "  <tbody>\n",
       "    <tr>\n",
       "      <td>accuracy</td>\n",
       "      <td>0.873868</td>\n",
       "      <td>0.675391</td>\n",
       "      <td>0.675391</td>\n",
       "      <td>0.675391</td>\n",
       "    </tr>\n",
       "    <tr>\n",
       "      <td>f1</td>\n",
       "      <td>0.0482794</td>\n",
       "      <td>0.673009</td>\n",
       "      <td>0.673009</td>\n",
       "      <td>0.673009</td>\n",
       "    </tr>\n",
       "    <tr>\n",
       "      <td>roc_auc</td>\n",
       "      <td>0.729721</td>\n",
       "      <td>0.744753</td>\n",
       "      <td>0.744883</td>\n",
       "      <td>0.74481</td>\n",
       "    </tr>\n",
       "    <tr>\n",
       "      <td>confusion</td>\n",
       "      <td>[[12791, 47], [1806, 47]]</td>\n",
       "      <td>[[1265, 611], [592, 1238]]</td>\n",
       "      <td>[[1265, 611], [592, 1238]]</td>\n",
       "      <td>[[1265, 611], [592, 1238]]</td>\n",
       "    </tr>\n",
       "  </tbody>\n",
       "</table>\n",
       "</div>"
      ],
      "text/plain": [
       "                               naive                    balanced  \\\n",
       "accuracy                    0.873868                    0.675391   \n",
       "f1                         0.0482794                    0.673009   \n",
       "roc_auc                     0.729721                    0.744753   \n",
       "confusion  [[12791, 47], [1806, 47]]  [[1265, 611], [592, 1238]]   \n",
       "\n",
       "                         std_balanced                      finish  \n",
       "accuracy                     0.675391                    0.675391  \n",
       "f1                           0.673009                    0.673009  \n",
       "roc_auc                      0.744883                     0.74481  \n",
       "confusion  [[1265, 611], [592, 1238]]  [[1265, 611], [592, 1238]]  "
      ]
     },
     "metadata": {},
     "output_type": "display_data"
    }
   ],
   "source": [
    "#обучаем модель с подобранными параметрами\n",
    "model_finish = LogisticRegression(penalty='l1', C=59.94842503189409, max_iter=1000, solver = 'liblinear')\n",
    "model_finish.fit(X_train, y_train)\n",
    "\n",
    "y_pred = model_finish.predict(X_test)\n",
    "y_probs = model_finish.predict_proba(X_test)[:,1]\n",
    "\n",
    "#смотрим метрики\n",
    "metrics_finish = count_metrics(y_test, y_pred, y_probs)\n",
    "data_metrics['finish'] = pd.Series(metrics_finish)\n",
    "\n",
    "show_roc_auc(y_test, y_probs)\n",
    "display(data_metrics)"
   ]
  },
  {
   "cell_type": "markdown",
   "metadata": {},
   "source": [
    "Балансировка категорий дала улучшения для модели. Возможно, необходима дополнительная работа с признаками, чтобы улучшить модель и доработка самого метода обучения."
   ]
  },
  {
   "cell_type": "markdown",
   "metadata": {},
   "source": [
    "ПОДГОТОВКА SUBMISSION"
   ]
  },
  {
   "cell_type": "code",
   "execution_count": 70,
   "metadata": {},
   "outputs": [
    {
     "data": {
      "text/html": [
       "<div>\n",
       "<style scoped>\n",
       "    .dataframe tbody tr th:only-of-type {\n",
       "        vertical-align: middle;\n",
       "    }\n",
       "\n",
       "    .dataframe tbody tr th {\n",
       "        vertical-align: top;\n",
       "    }\n",
       "\n",
       "    .dataframe thead th {\n",
       "        text-align: right;\n",
       "    }\n",
       "</style>\n",
       "<table border=\"1\" class=\"dataframe\">\n",
       "  <thead>\n",
       "    <tr style=\"text-align: right;\">\n",
       "      <th></th>\n",
       "      <th>client_id</th>\n",
       "      <th>sex</th>\n",
       "      <th>age</th>\n",
       "      <th>car</th>\n",
       "      <th>car_type</th>\n",
       "      <th>good_work</th>\n",
       "      <th>score_bki</th>\n",
       "      <th>bki_request_cnt</th>\n",
       "      <th>income</th>\n",
       "      <th>foreign_passport</th>\n",
       "      <th>...</th>\n",
       "      <th>work_address_1</th>\n",
       "      <th>work_address_2</th>\n",
       "      <th>sna_0</th>\n",
       "      <th>sna_1</th>\n",
       "      <th>sna_2</th>\n",
       "      <th>sna_3</th>\n",
       "      <th>first_time_0</th>\n",
       "      <th>first_time_1</th>\n",
       "      <th>first_time_2</th>\n",
       "      <th>first_time_3</th>\n",
       "    </tr>\n",
       "  </thead>\n",
       "  <tbody>\n",
       "    <tr>\n",
       "      <td>30161</td>\n",
       "      <td>42067</td>\n",
       "      <td>1</td>\n",
       "      <td>36</td>\n",
       "      <td>0</td>\n",
       "      <td>0</td>\n",
       "      <td>0</td>\n",
       "      <td>-2.168697</td>\n",
       "      <td>2.197225</td>\n",
       "      <td>10.819798</td>\n",
       "      <td>0</td>\n",
       "      <td>...</td>\n",
       "      <td>1</td>\n",
       "      <td>0</td>\n",
       "      <td>1</td>\n",
       "      <td>0</td>\n",
       "      <td>0</td>\n",
       "      <td>0</td>\n",
       "      <td>0</td>\n",
       "      <td>0</td>\n",
       "      <td>1</td>\n",
       "      <td>0</td>\n",
       "    </tr>\n",
       "    <tr>\n",
       "      <td>23944</td>\n",
       "      <td>82833</td>\n",
       "      <td>0</td>\n",
       "      <td>37</td>\n",
       "      <td>0</td>\n",
       "      <td>0</td>\n",
       "      <td>0</td>\n",
       "      <td>-1.873814</td>\n",
       "      <td>0.693147</td>\n",
       "      <td>10.308986</td>\n",
       "      <td>0</td>\n",
       "      <td>...</td>\n",
       "      <td>0</td>\n",
       "      <td>1</td>\n",
       "      <td>0</td>\n",
       "      <td>1</td>\n",
       "      <td>0</td>\n",
       "      <td>0</td>\n",
       "      <td>1</td>\n",
       "      <td>0</td>\n",
       "      <td>0</td>\n",
       "      <td>0</td>\n",
       "    </tr>\n",
       "    <tr>\n",
       "      <td>29714</td>\n",
       "      <td>8397</td>\n",
       "      <td>0</td>\n",
       "      <td>63</td>\n",
       "      <td>0</td>\n",
       "      <td>0</td>\n",
       "      <td>0</td>\n",
       "      <td>-1.435888</td>\n",
       "      <td>0.000000</td>\n",
       "      <td>9.998843</td>\n",
       "      <td>0</td>\n",
       "      <td>...</td>\n",
       "      <td>1</td>\n",
       "      <td>0</td>\n",
       "      <td>1</td>\n",
       "      <td>0</td>\n",
       "      <td>0</td>\n",
       "      <td>0</td>\n",
       "      <td>0</td>\n",
       "      <td>0</td>\n",
       "      <td>1</td>\n",
       "      <td>0</td>\n",
       "    </tr>\n",
       "  </tbody>\n",
       "</table>\n",
       "<p>3 rows × 44 columns</p>\n",
       "</div>"
      ],
      "text/plain": [
       "       client_id  sex  age  car  car_type  good_work  score_bki  \\\n",
       "30161      42067    1   36    0         0          0  -2.168697   \n",
       "23944      82833    0   37    0         0          0  -1.873814   \n",
       "29714       8397    0   63    0         0          0  -1.435888   \n",
       "\n",
       "       bki_request_cnt     income  foreign_passport  ...  work_address_1  \\\n",
       "30161         2.197225  10.819798                 0  ...               1   \n",
       "23944         0.693147  10.308986                 0  ...               0   \n",
       "29714         0.000000   9.998843                 0  ...               1   \n",
       "\n",
       "       work_address_2  sna_0  sna_1  sna_2  sna_3  first_time_0  first_time_1  \\\n",
       "30161               0      1      0      0      0             0             0   \n",
       "23944               1      0      1      0      0             1             0   \n",
       "29714               0      1      0      0      0             0             0   \n",
       "\n",
       "       first_time_2  first_time_3  \n",
       "30161             1             0  \n",
       "23944             0             0  \n",
       "29714             1             0  \n",
       "\n",
       "[3 rows x 44 columns]"
      ]
     },
     "execution_count": 70,
     "metadata": {},
     "output_type": "execute_result"
    }
   ],
   "source": [
    "data_test.sample(3)"
   ]
  },
  {
   "cell_type": "code",
   "execution_count": 71,
   "metadata": {},
   "outputs": [
    {
     "data": {
      "text/html": [
       "<div>\n",
       "<style scoped>\n",
       "    .dataframe tbody tr th:only-of-type {\n",
       "        vertical-align: middle;\n",
       "    }\n",
       "\n",
       "    .dataframe tbody tr th {\n",
       "        vertical-align: top;\n",
       "    }\n",
       "\n",
       "    .dataframe thead th {\n",
       "        text-align: right;\n",
       "    }\n",
       "</style>\n",
       "<table border=\"1\" class=\"dataframe\">\n",
       "  <thead>\n",
       "    <tr style=\"text-align: right;\">\n",
       "      <th></th>\n",
       "      <th>client_id</th>\n",
       "      <th>default</th>\n",
       "    </tr>\n",
       "  </thead>\n",
       "  <tbody>\n",
       "    <tr>\n",
       "      <td>5779</td>\n",
       "      <td>87851</td>\n",
       "      <td>0.546839</td>\n",
       "    </tr>\n",
       "    <tr>\n",
       "      <td>9866</td>\n",
       "      <td>40183</td>\n",
       "      <td>0.618611</td>\n",
       "    </tr>\n",
       "    <tr>\n",
       "      <td>14476</td>\n",
       "      <td>101189</td>\n",
       "      <td>0.818819</td>\n",
       "    </tr>\n",
       "  </tbody>\n",
       "</table>\n",
       "</div>"
      ],
      "text/plain": [
       "       client_id   default\n",
       "5779       87851  0.546839\n",
       "9866       40183  0.618611\n",
       "14476     101189  0.818819"
      ]
     },
     "execution_count": 71,
     "metadata": {},
     "output_type": "execute_result"
    }
   ],
   "source": [
    "sample_submission = pd.read_csv('sample_submission.csv')\n",
    "sample_submission.sample(3)"
   ]
  },
  {
   "cell_type": "code",
   "execution_count": 72,
   "metadata": {},
   "outputs": [
    {
     "name": "stderr",
     "output_type": "stream",
     "text": [
      "C:\\Anaconda3\\lib\\site-packages\\ipykernel_launcher.py:5: SettingWithCopyWarning: \n",
      "A value is trying to be set on a copy of a slice from a DataFrame.\n",
      "Try using .loc[row_indexer,col_indexer] = value instead\n",
      "\n",
      "See the caveats in the documentation: http://pandas.pydata.org/pandas-docs/stable/user_guide/indexing.html#returning-a-view-versus-a-copy\n",
      "  \"\"\"\n"
     ]
    }
   ],
   "source": [
    "#расчет на тестовых данных\n",
    "num_cols_std = StandardScaler().fit_transform(data_test[num_cols].values)\n",
    "X_test = np.hstack([data_test.drop(num_cols + ['client_id','default'], axis=1), num_cols_std])\n",
    "y_probs = model_finish.predict_proba(X_test)[:,1]\n",
    "data_test['default'] = y_probs"
   ]
  },
  {
   "cell_type": "code",
   "execution_count": 73,
   "metadata": {},
   "outputs": [
    {
     "data": {
      "text/html": [
       "<div>\n",
       "<style scoped>\n",
       "    .dataframe tbody tr th:only-of-type {\n",
       "        vertical-align: middle;\n",
       "    }\n",
       "\n",
       "    .dataframe tbody tr th {\n",
       "        vertical-align: top;\n",
       "    }\n",
       "\n",
       "    .dataframe thead th {\n",
       "        text-align: right;\n",
       "    }\n",
       "</style>\n",
       "<table border=\"1\" class=\"dataframe\">\n",
       "  <thead>\n",
       "    <tr style=\"text-align: right;\">\n",
       "      <th></th>\n",
       "      <th>client_id</th>\n",
       "      <th>default</th>\n",
       "    </tr>\n",
       "  </thead>\n",
       "  <tbody>\n",
       "    <tr>\n",
       "      <td>12117</td>\n",
       "      <td>10407</td>\n",
       "      <td>0.479817</td>\n",
       "    </tr>\n",
       "    <tr>\n",
       "      <td>33707</td>\n",
       "      <td>84745</td>\n",
       "      <td>0.060567</td>\n",
       "    </tr>\n",
       "    <tr>\n",
       "      <td>30550</td>\n",
       "      <td>63273</td>\n",
       "      <td>0.392319</td>\n",
       "    </tr>\n",
       "  </tbody>\n",
       "</table>\n",
       "</div>"
      ],
      "text/plain": [
       "       client_id   default\n",
       "12117      10407  0.479817\n",
       "33707      84745  0.060567\n",
       "30550      63273  0.392319"
      ]
     },
     "execution_count": 73,
     "metadata": {},
     "output_type": "execute_result"
    }
   ],
   "source": [
    "#проверка \n",
    "submission = data_test[['client_id','default']]\n",
    "submission.to_csv('submission.csv', index=False)\n",
    "submission.sample(3)"
   ]
  },
  {
   "cell_type": "code",
   "execution_count": null,
   "metadata": {},
   "outputs": [],
   "source": []
  }
 ],
 "metadata": {
  "kernelspec": {
   "display_name": "Python 3",
   "language": "python",
   "name": "python3"
  },
  "language_info": {
   "codemirror_mode": {
    "name": "ipython",
    "version": 3
   },
   "file_extension": ".py",
   "mimetype": "text/x-python",
   "name": "python",
   "nbconvert_exporter": "python",
   "pygments_lexer": "ipython3",
   "version": "3.7.4"
  }
 },
 "nbformat": 4,
 "nbformat_minor": 2
}
