{
 "cells": [
  {
   "cell_type": "markdown",
   "metadata": {},
   "source": [
    "# Загрузка Pandas и очистка данных"
   ]
  },
  {
   "cell_type": "code",
   "execution_count": 158,
   "metadata": {},
   "outputs": [],
   "source": [
    "import pandas as pd"
   ]
  },
  {
   "cell_type": "code",
   "execution_count": 159,
   "metadata": {},
   "outputs": [],
   "source": [
    "df = pd.read_csv('main_task.csv')"
   ]
  },
  {
   "cell_type": "code",
   "execution_count": 160,
   "metadata": {},
   "outputs": [],
   "source": [
    "#  Коды по очистке данных и генерации новых признаков"
   ]
  },
  {
   "cell_type": "code",
   "execution_count": 161,
   "metadata": {
    "scrolled": true
   },
   "outputs": [
    {
     "data": {
      "text/html": [
       "<div>\n",
       "<style scoped>\n",
       "    .dataframe tbody tr th:only-of-type {\n",
       "        vertical-align: middle;\n",
       "    }\n",
       "\n",
       "    .dataframe tbody tr th {\n",
       "        vertical-align: top;\n",
       "    }\n",
       "\n",
       "    .dataframe thead th {\n",
       "        text-align: right;\n",
       "    }\n",
       "</style>\n",
       "<table border=\"1\" class=\"dataframe\">\n",
       "  <thead>\n",
       "    <tr style=\"text-align: right;\">\n",
       "      <th></th>\n",
       "      <th>Restaurant_id</th>\n",
       "      <th>City</th>\n",
       "      <th>Cuisine Style</th>\n",
       "      <th>Ranking</th>\n",
       "      <th>Rating</th>\n",
       "      <th>Price Range</th>\n",
       "      <th>Number of Reviews</th>\n",
       "      <th>Reviews</th>\n",
       "      <th>URL_TA</th>\n",
       "      <th>ID_TA</th>\n",
       "    </tr>\n",
       "  </thead>\n",
       "  <tbody>\n",
       "    <tr>\n",
       "      <th>28372</th>\n",
       "      <td>id_2435</td>\n",
       "      <td>London</td>\n",
       "      <td>['Japanese', 'Sushi', 'Asian', 'Vegetarian Fri...</td>\n",
       "      <td>2440</td>\n",
       "      <td>4.0</td>\n",
       "      <td>$$ - $$$</td>\n",
       "      <td>311.0</td>\n",
       "      <td>[['Delicious sushi place, but don’t go to the....</td>\n",
       "      <td>/Restaurant_Review-g186338-d3383114-Reviews-Do...</td>\n",
       "      <td>d3383114</td>\n",
       "    </tr>\n",
       "    <tr>\n",
       "      <th>34052</th>\n",
       "      <td>id_821</td>\n",
       "      <td>Bratislava</td>\n",
       "      <td>['Eastern European']</td>\n",
       "      <td>822</td>\n",
       "      <td>2.5</td>\n",
       "      <td>$$ - $$$</td>\n",
       "      <td>15.0</td>\n",
       "      <td>[['Just terrible!', 'Good'], ['10/05/2017', '1...</td>\n",
       "      <td>/Restaurant_Review-g274924-d2052591-Reviews-Le...</td>\n",
       "      <td>d2052591</td>\n",
       "    </tr>\n",
       "    <tr>\n",
       "      <th>23108</th>\n",
       "      <td>id_507</td>\n",
       "      <td>Oslo</td>\n",
       "      <td>['American', 'Pizza', 'Vegetarian Friendly', '...</td>\n",
       "      <td>508</td>\n",
       "      <td>3.5</td>\n",
       "      <td>$$ - $$$</td>\n",
       "      <td>275.0</td>\n",
       "      <td>[['Pizza buffet is a good choice', 'Great pizz...</td>\n",
       "      <td>/Restaurant_Review-g190479-d3384365-Reviews-Pe...</td>\n",
       "      <td>d3384365</td>\n",
       "    </tr>\n",
       "  </tbody>\n",
       "</table>\n",
       "</div>"
      ],
      "text/plain": [
       "      Restaurant_id        City  \\\n",
       "28372       id_2435      London   \n",
       "34052        id_821  Bratislava   \n",
       "23108        id_507        Oslo   \n",
       "\n",
       "                                           Cuisine Style  Ranking  Rating  \\\n",
       "28372  ['Japanese', 'Sushi', 'Asian', 'Vegetarian Fri...     2440     4.0   \n",
       "34052                               ['Eastern European']      822     2.5   \n",
       "23108  ['American', 'Pizza', 'Vegetarian Friendly', '...      508     3.5   \n",
       "\n",
       "      Price Range  Number of Reviews  \\\n",
       "28372    $$ - $$$              311.0   \n",
       "34052    $$ - $$$               15.0   \n",
       "23108    $$ - $$$              275.0   \n",
       "\n",
       "                                                 Reviews  \\\n",
       "28372  [['Delicious sushi place, but don’t go to the....   \n",
       "34052  [['Just terrible!', 'Good'], ['10/05/2017', '1...   \n",
       "23108  [['Pizza buffet is a good choice', 'Great pizz...   \n",
       "\n",
       "                                                  URL_TA     ID_TA  \n",
       "28372  /Restaurant_Review-g186338-d3383114-Reviews-Do...  d3383114  \n",
       "34052  /Restaurant_Review-g274924-d2052591-Reviews-Le...  d2052591  \n",
       "23108  /Restaurant_Review-g190479-d3384365-Reviews-Pe...  d3384365  "
      ]
     },
     "execution_count": 161,
     "metadata": {},
     "output_type": "execute_result"
    }
   ],
   "source": [
    "df.sample(3)"
   ]
  },
  {
   "cell_type": "code",
   "execution_count": 162,
   "metadata": {},
   "outputs": [],
   "source": [
    "# Переименуем столбцы\n",
    "# df.rename(columns={'Restaurant_id': 'restaurant_id','City': 'city','Cuisine Style': 'cuisine_style','Ranking': 'ranking', 'Rating': 'rating','Price Range': 'price_range','Number of Reviews': 'nor','Reviews': 'reviews','URL_TA': 'url_ta','ID_TA': 'id_ta'}, inplace=True)\n",
    "df.columns=['restaurant_id','city','cuisine_style','ranking','rating','price_range','nor','reviews','url_ta','id_ta']"
   ]
  },
  {
   "cell_type": "code",
   "execution_count": 163,
   "metadata": {},
   "outputs": [
    {
     "data": {
      "text/html": [
       "<div>\n",
       "<style scoped>\n",
       "    .dataframe tbody tr th:only-of-type {\n",
       "        vertical-align: middle;\n",
       "    }\n",
       "\n",
       "    .dataframe tbody tr th {\n",
       "        vertical-align: top;\n",
       "    }\n",
       "\n",
       "    .dataframe thead th {\n",
       "        text-align: right;\n",
       "    }\n",
       "</style>\n",
       "<table border=\"1\" class=\"dataframe\">\n",
       "  <thead>\n",
       "    <tr style=\"text-align: right;\">\n",
       "      <th></th>\n",
       "      <th>restaurant_id</th>\n",
       "      <th>city</th>\n",
       "      <th>cuisine_style</th>\n",
       "      <th>ranking</th>\n",
       "      <th>rating</th>\n",
       "      <th>price_range</th>\n",
       "      <th>nor</th>\n",
       "      <th>reviews</th>\n",
       "      <th>url_ta</th>\n",
       "      <th>id_ta</th>\n",
       "    </tr>\n",
       "  </thead>\n",
       "  <tbody>\n",
       "    <tr>\n",
       "      <th>10902</th>\n",
       "      <td>id_13353</td>\n",
       "      <td>Paris</td>\n",
       "      <td>NaN</td>\n",
       "      <td>13355</td>\n",
       "      <td>2.5</td>\n",
       "      <td>NaN</td>\n",
       "      <td>7.0</td>\n",
       "      <td>[['Fresh, petite'], ['01/03/2014']]</td>\n",
       "      <td>/Restaurant_Review-g187147-d6223165-Reviews-Ca...</td>\n",
       "      <td>d6223165</td>\n",
       "    </tr>\n",
       "    <tr>\n",
       "      <th>5188</th>\n",
       "      <td>id_2318</td>\n",
       "      <td>Hamburg</td>\n",
       "      <td>['German']</td>\n",
       "      <td>2322</td>\n",
       "      <td>3.5</td>\n",
       "      <td>NaN</td>\n",
       "      <td>2.0</td>\n",
       "      <td>[['Schlemmer-Sommer Excellence', 'Long waits, ...</td>\n",
       "      <td>/Restaurant_Review-g187331-d4355928-Reviews-N_...</td>\n",
       "      <td>d4355928</td>\n",
       "    </tr>\n",
       "    <tr>\n",
       "      <th>2453</th>\n",
       "      <td>id_414</td>\n",
       "      <td>Warsaw</td>\n",
       "      <td>['Bar', 'Pub', 'Gastropub']</td>\n",
       "      <td>415</td>\n",
       "      <td>4.5</td>\n",
       "      <td>$$ - $$$</td>\n",
       "      <td>77.0</td>\n",
       "      <td>[['Great craft beer!', 'Good Brewery in Warsaw...</td>\n",
       "      <td>/Restaurant_Review-g274856-d10290442-Reviews-B...</td>\n",
       "      <td>d10290442</td>\n",
       "    </tr>\n",
       "  </tbody>\n",
       "</table>\n",
       "</div>"
      ],
      "text/plain": [
       "      restaurant_id     city                cuisine_style  ranking  rating  \\\n",
       "10902      id_13353    Paris                          NaN    13355     2.5   \n",
       "5188        id_2318  Hamburg                   ['German']     2322     3.5   \n",
       "2453         id_414   Warsaw  ['Bar', 'Pub', 'Gastropub']      415     4.5   \n",
       "\n",
       "      price_range   nor                                            reviews  \\\n",
       "10902         NaN   7.0                [['Fresh, petite'], ['01/03/2014']]   \n",
       "5188          NaN   2.0  [['Schlemmer-Sommer Excellence', 'Long waits, ...   \n",
       "2453     $$ - $$$  77.0  [['Great craft beer!', 'Good Brewery in Warsaw...   \n",
       "\n",
       "                                                  url_ta      id_ta  \n",
       "10902  /Restaurant_Review-g187147-d6223165-Reviews-Ca...   d6223165  \n",
       "5188   /Restaurant_Review-g187331-d4355928-Reviews-N_...   d4355928  \n",
       "2453   /Restaurant_Review-g274856-d10290442-Reviews-B...  d10290442  "
      ]
     },
     "execution_count": 163,
     "metadata": {},
     "output_type": "execute_result"
    }
   ],
   "source": [
    "df.sample(3)"
   ]
  },
  {
   "cell_type": "code",
   "execution_count": 164,
   "metadata": {},
   "outputs": [
    {
     "name": "stdout",
     "output_type": "stream",
     "text": [
      "$$ - $$$    18412\n",
      "$            6279\n",
      "$$$$         1423\n",
      "Name: price_range, dtype: int64\n"
     ]
    }
   ],
   "source": [
    "# смотрим на количество уникальных значений по столбцу, \n",
    "# определяем сколько ресторанов относятся к среднему ценовому сегменту\n",
    "print(df['price_range'].value_counts())"
   ]
  },
  {
   "cell_type": "code",
   "execution_count": 165,
   "metadata": {},
   "outputs": [
    {
     "data": {
      "text/plain": [
       "18412"
      ]
     },
     "execution_count": 165,
     "metadata": {},
     "output_type": "execute_result"
    }
   ],
   "source": [
    "# определяем сколько ресторанов относятся к среднему ценовому сегменту\n",
    "df[df.price_range =='$$ - $$$'].restaurant_id.count()"
   ]
  },
  {
   "cell_type": "code",
   "execution_count": 166,
   "metadata": {},
   "outputs": [
    {
     "data": {
      "text/plain": [
       "31"
      ]
     },
     "execution_count": 166,
     "metadata": {},
     "output_type": "execute_result"
    }
   ],
   "source": [
    "# посчитаем сколько городов в наборе данных\n",
    "df['city'].nunique()"
   ]
  },
  {
   "cell_type": "code",
   "execution_count": 167,
   "metadata": {},
   "outputs": [
    {
     "name": "stdout",
     "output_type": "stream",
     "text": [
      "125\n"
     ]
    }
   ],
   "source": [
    "# Сколько типов кухонь представлено в наборе данных?\n",
    "def make_list(n_str):\n",
    "    n_str = n_str.replace('[','')\n",
    "    n_str = n_str.replace(']','')\n",
    "    n_list = n_str.split(', ')\n",
    "    return list(n_list)\n",
    "\n",
    "df['cuisine_style'] = df['cuisine_style'].fillna('none')\n",
    "df['cuisine_style'] = df['cuisine_style'].apply(make_list)\n",
    "\n",
    "cs_list = []\n",
    "\n",
    "for i in range(0, len(df['cuisine_style'])):\n",
    "    \n",
    "    one_list = df['cuisine_style'][i] \n",
    "    \n",
    "    for elem in one_list:             \n",
    "        if elem not in cs_list and elem != 'none':\n",
    "            cs_list.append(elem)\n",
    "            \n",
    "print(len(cs_list))"
   ]
  },
  {
   "cell_type": "code",
   "execution_count": 168,
   "metadata": {
    "scrolled": true
   },
   "outputs": [
    {
     "name": "stdout",
     "output_type": "stream",
     "text": [
      "[(\"'Vegetarian Friendly'\", 11189)]\n"
     ]
    }
   ],
   "source": [
    "cs_liste = []\n",
    "\n",
    "for i in range (0, len(df['cuisine_style'])):\n",
    "    one_list = list(df['cuisine_style'][i])\n",
    "    for elem in one_list:\n",
    "        if elem != 'none':\n",
    "            cs_liste.append(elem)\n",
    "\n",
    "import collections\n",
    "c = collections.Counter()\n",
    "\n",
    "for word in cs_liste:\n",
    "    c[word] += 1\n",
    "    \n",
    "print(c.most_common(1))"
   ]
  },
  {
   "cell_type": "code",
   "execution_count": 169,
   "metadata": {},
   "outputs": [
    {
     "name": "stdout",
     "output_type": "stream",
     "text": [
      "2.6224\n"
     ]
    }
   ],
   "source": [
    "def cnt_kitchen(n_list):\n",
    "    cnt = 0\n",
    "    for elem in n_list:\n",
    "        if elem != 'none':\n",
    "            cnt += 1\n",
    "        else:\n",
    "            cnt = 1\n",
    "    return cnt\n",
    "\n",
    "df['cnt_kitchen'] = df['cuisine_style'].apply(cnt_kitchen)\n",
    "\n",
    "print(df['cnt_kitchen'].mean())"
   ]
  },
  {
   "cell_type": "code",
   "execution_count": 170,
   "metadata": {},
   "outputs": [
    {
     "name": "stdout",
     "output_type": "stream",
     "text": [
      "0        3\n",
      "1        1\n",
      "2        7\n",
      "3        1\n",
      "4        3\n",
      "        ..\n",
      "39995    4\n",
      "39996    5\n",
      "39997    2\n",
      "39998    5\n",
      "39999    1\n",
      "Name: cnt_kitchen, Length: 40000, dtype: int64\n"
     ]
    }
   ],
   "source": [
    "print(df['cnt_kitchen'])"
   ]
  },
  {
   "cell_type": "code",
   "execution_count": null,
   "metadata": {},
   "outputs": [],
   "source": []
  },
  {
   "cell_type": "code",
   "execution_count": 171,
   "metadata": {},
   "outputs": [
    {
     "name": "stdout",
     "output_type": "stream",
     "text": [
      "2004-04-21 00:00:00\n",
      "2018-02-26 00:00:00\n"
     ]
    }
   ],
   "source": [
    "# определяем когда был оставлен самый свежий отзыв\n",
    "import re\n",
    "date_comment = df['reviews'][0]\n",
    "\n",
    "def search_date(n_str):\n",
    "    found_date = re.findall('\\d{2}\\/\\d{2}\\/\\d{4}', n_str)\n",
    "    if len(found_date) == 0:\n",
    "        found_date = 'no_date'\n",
    "    return found_date\n",
    "\n",
    "df['reviews_date'] = df['reviews'].apply(search_date)\n",
    "\n",
    "len_rev = len(df['reviews_date'])\n",
    "\n",
    "cs_list = []\n",
    "\n",
    "for i in range (0, len_rev):\n",
    "    one_list = df['reviews_date'][i]\n",
    "    for elem in one_list:\n",
    "        if elem not in 'no_date':\n",
    "            cs_list.append(pd.to_datetime(elem, format='%m/%d/%Y'))\n",
    "\n",
    "# pd.to_datetime(df['date_time_column'], format='%m/%d/%Y')\n",
    "\n",
    "print(min(cs_list))\n",
    "print(max(cs_list))"
   ]
  },
  {
   "cell_type": "code",
   "execution_count": 172,
   "metadata": {},
   "outputs": [
    {
     "name": "stdout",
     "output_type": "stream",
     "text": [
      "3207 days 00:00:00\n"
     ]
    }
   ],
   "source": [
    "# Какое максимальное количество дней отделяет даты публикации отзывов, размещённых на сайте ресторана?\n",
    "cs_list = []\n",
    "\n",
    "for i in range (0, len_rev):\n",
    "    one_list = df['reviews_date'][i]\n",
    "    if len(one_list) == 2:\n",
    "        f_date = pd.to_datetime(one_list[0], format='%m/%d/%Y')\n",
    "        s_date = pd.to_datetime(one_list[1], format='%m/%d/%Y')\n",
    "        cs_list.append(f_date - s_date)\n",
    "\n",
    "print(max(cs_list))"
   ]
  },
  {
   "cell_type": "code",
   "execution_count": 173,
   "metadata": {
    "scrolled": true
   },
   "outputs": [
    {
     "name": "stdout",
     "output_type": "stream",
     "text": [
      "0        2\n",
      "1        0\n",
      "2        3\n",
      "3        0\n",
      "4        2\n",
      "        ..\n",
      "39995    2\n",
      "39996    2\n",
      "39997    0\n",
      "39998    2\n",
      "39999    2\n",
      "Name: price_range, Length: 40000, dtype: int64\n"
     ]
    }
   ],
   "source": [
    "# создаём дополнительный признак об уровне цен\n",
    "def range_value(n_str):\n",
    "    if n_str == 0:\n",
    "        res = 0\n",
    "    elif n_str == '$':\n",
    "        res = 1\n",
    "    elif n_str == '$$ - $$$':\n",
    "        res = 2\n",
    "    else:\n",
    "        res = 3\n",
    "    return res\n",
    "\n",
    "df['price_range'] = df['price_range'].fillna(0)\n",
    "df['price_range'] = df['price_range'].apply(range_value)\n",
    "\n",
    "print(df['price_range'])"
   ]
  },
  {
   "cell_type": "code",
   "execution_count": 175,
   "metadata": {},
   "outputs": [
    {
     "data": {
      "text/html": [
       "<div>\n",
       "<style scoped>\n",
       "    .dataframe tbody tr th:only-of-type {\n",
       "        vertical-align: middle;\n",
       "    }\n",
       "\n",
       "    .dataframe tbody tr th {\n",
       "        vertical-align: top;\n",
       "    }\n",
       "\n",
       "    .dataframe thead th {\n",
       "        text-align: right;\n",
       "    }\n",
       "</style>\n",
       "<table border=\"1\" class=\"dataframe\">\n",
       "  <thead>\n",
       "    <tr style=\"text-align: right;\">\n",
       "      <th></th>\n",
       "      <th>restaurant_id</th>\n",
       "      <th>city</th>\n",
       "      <th>cuisine_style</th>\n",
       "      <th>ranking</th>\n",
       "      <th>rating</th>\n",
       "      <th>price_range</th>\n",
       "      <th>nor</th>\n",
       "      <th>reviews</th>\n",
       "      <th>url_ta</th>\n",
       "      <th>id_ta</th>\n",
       "      <th>cnt_kitchen</th>\n",
       "      <th>reviews_date</th>\n",
       "    </tr>\n",
       "  </thead>\n",
       "  <tbody>\n",
       "    <tr>\n",
       "      <th>0</th>\n",
       "      <td>id_5569</td>\n",
       "      <td>Paris</td>\n",
       "      <td>['European', 'French', 'International']</td>\n",
       "      <td>5570</td>\n",
       "      <td>3.5</td>\n",
       "      <td>2</td>\n",
       "      <td>194.0</td>\n",
       "      <td>[['Good food at your doorstep', 'A good hotel ...</td>\n",
       "      <td>/Restaurant_Review-g187147-d1912643-Reviews-R_...</td>\n",
       "      <td>d1912643</td>\n",
       "      <td>3</td>\n",
       "      <td>[12/31/2017, 11/20/2017]</td>\n",
       "    </tr>\n",
       "    <tr>\n",
       "      <th>1</th>\n",
       "      <td>id_1535</td>\n",
       "      <td>Stockholm</td>\n",
       "      <td>[none]</td>\n",
       "      <td>1537</td>\n",
       "      <td>4.0</td>\n",
       "      <td>0</td>\n",
       "      <td>10.0</td>\n",
       "      <td>[['Unique cuisine', 'Delicious Nepalese food']...</td>\n",
       "      <td>/Restaurant_Review-g189852-d7992032-Reviews-Bu...</td>\n",
       "      <td>d7992032</td>\n",
       "      <td>1</td>\n",
       "      <td>[07/06/2017, 06/19/2016]</td>\n",
       "    </tr>\n",
       "    <tr>\n",
       "      <th>2</th>\n",
       "      <td>id_352</td>\n",
       "      <td>London</td>\n",
       "      <td>['Japanese', 'Sushi', 'Asian', 'Grill', 'Veget...</td>\n",
       "      <td>353</td>\n",
       "      <td>4.5</td>\n",
       "      <td>3</td>\n",
       "      <td>688.0</td>\n",
       "      <td>[['Catch up with friends', 'Not exceptional'],...</td>\n",
       "      <td>/Restaurant_Review-g186338-d8632781-Reviews-RO...</td>\n",
       "      <td>d8632781</td>\n",
       "      <td>7</td>\n",
       "      <td>[01/08/2018, 01/06/2018]</td>\n",
       "    </tr>\n",
       "    <tr>\n",
       "      <th>3</th>\n",
       "      <td>id_3456</td>\n",
       "      <td>Berlin</td>\n",
       "      <td>[none]</td>\n",
       "      <td>3458</td>\n",
       "      <td>5.0</td>\n",
       "      <td>0</td>\n",
       "      <td>3.0</td>\n",
       "      <td>[[], []]</td>\n",
       "      <td>/Restaurant_Review-g187323-d1358776-Reviews-Es...</td>\n",
       "      <td>d1358776</td>\n",
       "      <td>1</td>\n",
       "      <td>no_date</td>\n",
       "    </tr>\n",
       "    <tr>\n",
       "      <th>4</th>\n",
       "      <td>id_615</td>\n",
       "      <td>Munich</td>\n",
       "      <td>['German', 'Central European', 'Vegetarian Fri...</td>\n",
       "      <td>621</td>\n",
       "      <td>4.0</td>\n",
       "      <td>2</td>\n",
       "      <td>84.0</td>\n",
       "      <td>[['Best place to try a Bavarian food', 'Nice b...</td>\n",
       "      <td>/Restaurant_Review-g187309-d6864963-Reviews-Au...</td>\n",
       "      <td>d6864963</td>\n",
       "      <td>3</td>\n",
       "      <td>[11/18/2017, 02/19/2017]</td>\n",
       "    </tr>\n",
       "    <tr>\n",
       "      <th>...</th>\n",
       "      <td>...</td>\n",
       "      <td>...</td>\n",
       "      <td>...</td>\n",
       "      <td>...</td>\n",
       "      <td>...</td>\n",
       "      <td>...</td>\n",
       "      <td>...</td>\n",
       "      <td>...</td>\n",
       "      <td>...</td>\n",
       "      <td>...</td>\n",
       "      <td>...</td>\n",
       "      <td>...</td>\n",
       "    </tr>\n",
       "    <tr>\n",
       "      <th>39995</th>\n",
       "      <td>id_499</td>\n",
       "      <td>Milan</td>\n",
       "      <td>['Italian', 'Vegetarian Friendly', 'Vegan Opti...</td>\n",
       "      <td>500</td>\n",
       "      <td>4.5</td>\n",
       "      <td>2</td>\n",
       "      <td>79.0</td>\n",
       "      <td>[['The real Italian experience!', 'Wonderful f...</td>\n",
       "      <td>/Restaurant_Review-g187849-d2104414-Reviews-Ro...</td>\n",
       "      <td>d2104414</td>\n",
       "      <td>4</td>\n",
       "      <td>[12/16/2017, 11/12/2017]</td>\n",
       "    </tr>\n",
       "    <tr>\n",
       "      <th>39996</th>\n",
       "      <td>id_6340</td>\n",
       "      <td>Paris</td>\n",
       "      <td>['French', 'American', 'Bar', 'European', 'Veg...</td>\n",
       "      <td>6341</td>\n",
       "      <td>3.5</td>\n",
       "      <td>2</td>\n",
       "      <td>542.0</td>\n",
       "      <td>[['Parisian atmosphere', 'Bit pricey but inter...</td>\n",
       "      <td>/Restaurant_Review-g187147-d1800036-Reviews-La...</td>\n",
       "      <td>d1800036</td>\n",
       "      <td>5</td>\n",
       "      <td>[12/21/2017, 12/12/2017]</td>\n",
       "    </tr>\n",
       "    <tr>\n",
       "      <th>39997</th>\n",
       "      <td>id_1649</td>\n",
       "      <td>Stockholm</td>\n",
       "      <td>['Japanese', 'Sushi']</td>\n",
       "      <td>1652</td>\n",
       "      <td>4.5</td>\n",
       "      <td>0</td>\n",
       "      <td>4.0</td>\n",
       "      <td>[['Good by swedish standards', 'A hidden jewel...</td>\n",
       "      <td>/Restaurant_Review-g189852-d947615-Reviews-Sus...</td>\n",
       "      <td>d947615</td>\n",
       "      <td>2</td>\n",
       "      <td>[11/03/2016, 04/12/2008]</td>\n",
       "    </tr>\n",
       "    <tr>\n",
       "      <th>39998</th>\n",
       "      <td>id_640</td>\n",
       "      <td>Warsaw</td>\n",
       "      <td>['Polish', 'European', 'Eastern European', 'Ce...</td>\n",
       "      <td>641</td>\n",
       "      <td>4.0</td>\n",
       "      <td>2</td>\n",
       "      <td>70.0</td>\n",
       "      <td>[['Underground restaurant', 'Oldest Restaurant...</td>\n",
       "      <td>/Restaurant_Review-g274856-d1100838-Reviews-Ho...</td>\n",
       "      <td>d1100838</td>\n",
       "      <td>5</td>\n",
       "      <td>[07/11/2017, 06/18/2017]</td>\n",
       "    </tr>\n",
       "    <tr>\n",
       "      <th>39999</th>\n",
       "      <td>id_4824</td>\n",
       "      <td>Milan</td>\n",
       "      <td>['Spanish']</td>\n",
       "      <td>4827</td>\n",
       "      <td>3.0</td>\n",
       "      <td>2</td>\n",
       "      <td>260.0</td>\n",
       "      <td>[['Average', 'Nice an informal'], ['01/31/2016...</td>\n",
       "      <td>/Restaurant_Review-g187849-d1109020-Reviews-Ta...</td>\n",
       "      <td>d1109020</td>\n",
       "      <td>1</td>\n",
       "      <td>[01/31/2016, 07/04/2012]</td>\n",
       "    </tr>\n",
       "  </tbody>\n",
       "</table>\n",
       "<p>40000 rows × 12 columns</p>\n",
       "</div>"
      ],
      "text/plain": [
       "      restaurant_id       city  \\\n",
       "0           id_5569      Paris   \n",
       "1           id_1535  Stockholm   \n",
       "2            id_352     London   \n",
       "3           id_3456     Berlin   \n",
       "4            id_615     Munich   \n",
       "...             ...        ...   \n",
       "39995        id_499      Milan   \n",
       "39996       id_6340      Paris   \n",
       "39997       id_1649  Stockholm   \n",
       "39998        id_640     Warsaw   \n",
       "39999       id_4824      Milan   \n",
       "\n",
       "                                           cuisine_style  ranking  rating  \\\n",
       "0                ['European', 'French', 'International']     5570     3.5   \n",
       "1                                                 [none]     1537     4.0   \n",
       "2      ['Japanese', 'Sushi', 'Asian', 'Grill', 'Veget...      353     4.5   \n",
       "3                                                 [none]     3458     5.0   \n",
       "4      ['German', 'Central European', 'Vegetarian Fri...      621     4.0   \n",
       "...                                                  ...      ...     ...   \n",
       "39995  ['Italian', 'Vegetarian Friendly', 'Vegan Opti...      500     4.5   \n",
       "39996  ['French', 'American', 'Bar', 'European', 'Veg...     6341     3.5   \n",
       "39997                              ['Japanese', 'Sushi']     1652     4.5   \n",
       "39998  ['Polish', 'European', 'Eastern European', 'Ce...      641     4.0   \n",
       "39999                                        ['Spanish']     4827     3.0   \n",
       "\n",
       "       price_range    nor                                            reviews  \\\n",
       "0                2  194.0  [['Good food at your doorstep', 'A good hotel ...   \n",
       "1                0   10.0  [['Unique cuisine', 'Delicious Nepalese food']...   \n",
       "2                3  688.0  [['Catch up with friends', 'Not exceptional'],...   \n",
       "3                0    3.0                                           [[], []]   \n",
       "4                2   84.0  [['Best place to try a Bavarian food', 'Nice b...   \n",
       "...            ...    ...                                                ...   \n",
       "39995            2   79.0  [['The real Italian experience!', 'Wonderful f...   \n",
       "39996            2  542.0  [['Parisian atmosphere', 'Bit pricey but inter...   \n",
       "39997            0    4.0  [['Good by swedish standards', 'A hidden jewel...   \n",
       "39998            2   70.0  [['Underground restaurant', 'Oldest Restaurant...   \n",
       "39999            2  260.0  [['Average', 'Nice an informal'], ['01/31/2016...   \n",
       "\n",
       "                                                  url_ta     id_ta  \\\n",
       "0      /Restaurant_Review-g187147-d1912643-Reviews-R_...  d1912643   \n",
       "1      /Restaurant_Review-g189852-d7992032-Reviews-Bu...  d7992032   \n",
       "2      /Restaurant_Review-g186338-d8632781-Reviews-RO...  d8632781   \n",
       "3      /Restaurant_Review-g187323-d1358776-Reviews-Es...  d1358776   \n",
       "4      /Restaurant_Review-g187309-d6864963-Reviews-Au...  d6864963   \n",
       "...                                                  ...       ...   \n",
       "39995  /Restaurant_Review-g187849-d2104414-Reviews-Ro...  d2104414   \n",
       "39996  /Restaurant_Review-g187147-d1800036-Reviews-La...  d1800036   \n",
       "39997  /Restaurant_Review-g189852-d947615-Reviews-Sus...   d947615   \n",
       "39998  /Restaurant_Review-g274856-d1100838-Reviews-Ho...  d1100838   \n",
       "39999  /Restaurant_Review-g187849-d1109020-Reviews-Ta...  d1109020   \n",
       "\n",
       "       cnt_kitchen              reviews_date  \n",
       "0                3  [12/31/2017, 11/20/2017]  \n",
       "1                1  [07/06/2017, 06/19/2016]  \n",
       "2                7  [01/08/2018, 01/06/2018]  \n",
       "3                1                   no_date  \n",
       "4                3  [11/18/2017, 02/19/2017]  \n",
       "...            ...                       ...  \n",
       "39995            4  [12/16/2017, 11/12/2017]  \n",
       "39996            5  [12/21/2017, 12/12/2017]  \n",
       "39997            2  [11/03/2016, 04/12/2008]  \n",
       "39998            5  [07/11/2017, 06/18/2017]  \n",
       "39999            1  [01/31/2016, 07/04/2012]  \n",
       "\n",
       "[40000 rows x 12 columns]"
      ]
     },
     "execution_count": 175,
     "metadata": {},
     "output_type": "execute_result"
    }
   ],
   "source": [
    "# df = df[['price_range','rating']]\n",
    "df"
   ]
  },
  {
   "cell_type": "code",
   "execution_count": 182,
   "metadata": {},
   "outputs": [],
   "source": [
    "# Х - данные с информацией о ресторанах, у - целевая переменная (рейтинги ресторанов)\n",
    "X = df[['price_range','cnt_kitchen','ranking']]\n",
    "y = df['rating']"
   ]
  },
  {
   "cell_type": "code",
   "execution_count": 183,
   "metadata": {},
   "outputs": [],
   "source": [
    "# Загружаем специальный инструмент для разбивки:\n",
    "from sklearn.model_selection import train_test_split"
   ]
  },
  {
   "cell_type": "code",
   "execution_count": 184,
   "metadata": {},
   "outputs": [],
   "source": [
    "# Наборы данных с меткой \"train\" будут использоваться для обучения модели, \"test\" - для тестирования.\n",
    "# Для тестирования мы будем использовать 25% от исходного датасета.\n",
    "X_train, X_test, y_train, y_test = train_test_split(X, y, test_size=0.25)"
   ]
  },
  {
   "cell_type": "markdown",
   "metadata": {},
   "source": [
    "# Создаём, обучаем и тестируем модель"
   ]
  },
  {
   "cell_type": "code",
   "execution_count": 185,
   "metadata": {},
   "outputs": [],
   "source": [
    "# Импортируем необходимые библиотеки:\n",
    "from sklearn.ensemble import RandomForestRegressor # инструмент для создания и обучения модели\n",
    "from sklearn import metrics # инструменты для оценки точности модели"
   ]
  },
  {
   "cell_type": "code",
   "execution_count": 186,
   "metadata": {},
   "outputs": [],
   "source": [
    "# Создаём модель\n",
    "regr = RandomForestRegressor(n_estimators=100)\n",
    "\n",
    "# Обучаем модель на тестовом наборе данных\n",
    "regr.fit(X_train, y_train)\n",
    "\n",
    "# Используем обученную модель для предсказания рейтинга ресторанов в тестовой выборке.\n",
    "# Предсказанные значения записываем в переменную y_pred\n",
    "y_pred = regr.predict(X_test)"
   ]
  },
  {
   "cell_type": "code",
   "execution_count": 187,
   "metadata": {},
   "outputs": [
    {
     "name": "stdout",
     "output_type": "stream",
     "text": [
      "MAE: 0.49789321090992333\n"
     ]
    }
   ],
   "source": [
    "# Сравниваем предсказанные значения (y_pred) с реальными (y_test), и смотрим насколько они в среднем отличаются\n",
    "# Метрика называется Mean Absolute Error (MAE) и показывает среднее отклонение предсказанных значений от фактических.\n",
    "print('MAE:', metrics.mean_absolute_error(y_test, y_pred))"
   ]
  },
  {
   "cell_type": "code",
   "execution_count": null,
   "metadata": {},
   "outputs": [],
   "source": []
  }
 ],
 "metadata": {
  "kernelspec": {
   "display_name": "Python 3",
   "language": "python",
   "name": "python3"
  },
  "language_info": {
   "codemirror_mode": {
    "name": "ipython",
    "version": 3
   },
   "file_extension": ".py",
   "mimetype": "text/x-python",
   "name": "python",
   "nbconvert_exporter": "python",
   "pygments_lexer": "ipython3",
   "version": "3.8.2"
  }
 },
 "nbformat": 4,
 "nbformat_minor": 2
}
